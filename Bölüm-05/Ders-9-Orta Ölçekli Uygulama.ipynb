{
 "cells": [
  {
   "cell_type": "markdown",
   "id": "158f0874-a4bc-48ee-86f8-0b30e3859937",
   "metadata": {},
   "source": [
    "### Orta Ölçekli Uygulama: Kullanıcının girdiği bir sayının asal olup olmadığını kontrol eden bir Python programı\n",
    "\n",
    "```python\n",
    "# Kullanıcıdan sayı alma\n",
    "sayi = int(input(\"Bir sayı girin: \"))\n",
    "\n",
    "# Asal sayı kontrolü\n",
    "if sayi > 1:\n",
    "    for i in range(2, sayi):\n",
    "        if sayi % i == 0:\n",
    "            print(f\"{sayi} sayısı asal değildir.\")\n",
    "            break\n",
    "    else:\n",
    "        print(f\"{sayi} sayısı asaldır.\")\n",
    "else:\n",
    "    print(f\"{sayi} sayısı asal değildir.\")\n",
    "```\n",
    "\n",
    "**Açıklama**: Bu program, kullanıcıdan bir sayı alır ve bu sayının asal olup olmadığını kontrol eder. Asal sayı, yalnızca kendisi ve 1 ile bölünebilen bir sayıdır. Program, sayı 2'den başlayarak kendisinden bir eksik olan sayılara kadar bölme işlemi yapar. Eğer herhangi bir sayıya tam bölünürse, asal değildir. Döngü tamamlanırsa, sayı asal olarak kabul edilir.\n",
    "\n",
    "---"
   ]
  },
  {
   "cell_type": "code",
   "execution_count": null,
   "id": "61abb134-5e4c-4d3a-80f4-595a882c6a87",
   "metadata": {},
   "outputs": [],
   "source": []
  }
 ],
 "metadata": {
  "kernelspec": {
   "display_name": "Python 3 (ipykernel)",
   "language": "python",
   "name": "python3"
  },
  "language_info": {
   "codemirror_mode": {
    "name": "ipython",
    "version": 3
   },
   "file_extension": ".py",
   "mimetype": "text/x-python",
   "name": "python",
   "nbconvert_exporter": "python",
   "pygments_lexer": "ipython3",
   "version": "3.12.7"
  }
 },
 "nbformat": 4,
 "nbformat_minor": 5
}
