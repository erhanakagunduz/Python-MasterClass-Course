{
 "cells": [
  {
   "cell_type": "markdown",
   "id": "27ffd88c-cb6b-46b5-b96e-0fc035b7761c",
   "metadata": {},
   "source": [
    "## Python **while** Döngüsü  \n",
    "**Özet**: Bu öğretici, Python **while** ifadesinin nasıl kullanılacağını ve bir koşul doğru olduğu sürece bir kod bloğunun nasıl çalıştırılacağını anlatmaktadır.\n",
    "\n",
    "### Python **while** İfadesine Giriş  \n",
    "Python **while** ifadesi, bir koşul **True** olduğu sürece bir kod bloğunu tekrarlayarak çalıştırmanıza olanak tanır.\n",
    "\n",
    "Aşağıda Python **while** ifadesinin sözdizimi gösterilmektedir:\n",
    "\n",
    "```python\n",
    "while condition:  \n",
    "   body\n",
    "```\n",
    "\n",
    "Koşul, bir boolean değeri döndüren bir ifadedir; yani, **True** veya **False** olabilir.\n",
    "\n",
    "**while** ifadesi her iterasyonun başında koşulu kontrol eder. Koşul **True** olduğu sürece, **body** (gövde) çalıştırılır.\n",
    "\n",
    "Döngünün gövdesinde, döngüyü bir noktada durdurmak için bir şeyler yapmalısınız.\n",
    "\n",
    "Aksi takdirde, uygulama kapanana kadar sonsuz bir döngü oluşur ve bu döngü devam eder.\n",
    "\n",
    "Çünkü **while** ifadesi her iterasyonun başında koşulu kontrol ettiği için bu döngü **pretest loop** (ön test döngüsü) olarak adlandırılır.\n",
    "\n",
    "Eğer koşul baştan False ise, **while** ifadesi hiçbir şey yapmaz."
   ]
  },
  {
   "cell_type": "markdown",
   "id": "8a32e2e6-6ad0-45d9-9d2f-495d8b505820",
   "metadata": {},
   "source": [
    "Aşağıdaki akış şeması **while** döngü deyimini göstermektedir"
   ]
  },
  {
   "cell_type": "code",
   "execution_count": 1,
   "id": "9e1ee88b-27da-4865-9738-4ed1fd20df01",
   "metadata": {},
   "outputs": [
    {
     "data": {
      "image/png": "[encoded data removed]",
      "text/plain": [
       "<IPython.core.display.Image object>"
      ]
     },
     "execution_count": 1,
     "metadata": {},
     "output_type": "execute_result"
    }
   ],
   "source": [
    "from IPython.display import Image\n",
    "\n",
    "# Aynı dizindeki bir resmi görüntüleme\n",
    "Image(filename=\"Python-while-loop.png\")"
   ]
  },
  {
   "cell_type": "markdown",
   "id": "ba5a6753-b890-4b4a-a791-a500a48ef19d",
   "metadata": {},
   "source": [
    "Python **while** İfadesi Örnekleri  \n",
    "Python **while** ifadesinin nasıl kullanılacağına dair bazı örnekler inceleyelim.\n",
    "\n",
    "### 1) Basit Python **while** İfadesi Örneği  \n",
    "Aşağıdaki örnek, bir **while** ifadesi kullanarak ekrana 0'dan 4'e kadar olan 5 sayıyı yazdırır:\n",
    "\n",
    "```python\n",
    "max = 5\n",
    "counter = 0\n",
    "\n",
    "while counter < max:\n",
    "    print(counter)\n",
    "    counter += 1\n",
    "```\n",
    "\n",
    "**Çıktı**:\n",
    "\n",
    "```\n",
    "0\n",
    "1\n",
    "2\n",
    "3\n",
    "4\n",
    "```\n",
    "\n",
    "**Nasıl çalışır**:\n",
    "\n",
    "1. İlk olarak, `max` ve `counter` adında iki değişken tanımlanır ve başlangıç değerleri sırasıyla 5 ve 0 olarak atanır.\n",
    "2. Daha sonra, `while` ifadesi `counter < max` koşuluyla kullanılır. Bu, `counter` değeri `max` değerinden küçük olduğu sürece döngü gövdesinin çalışacağı anlamına gelir.\n",
    "3. Her iterasyonda `counter` değeri ekrana yazdırılır ve birer birer artırılır. Beş iterasyondan sonra `counter` değeri 5 olur, bu da `counter < max` koşulunun False olmasına neden olur ve döngü durur.\n",
    "\n",
    "### 2) Python **while** İfadesi ile Basit Bir Komut Satırı Programı Yapma  \n",
    "Aşağıdaki örnek, kullanıcılardan giriş almak ve girilen komutu ekrana yazdırmak için **while** ifadesi kullanır. Bu program, kullanıcı 'quit' komutunu girene kadar çalışmaya devam eder:\n",
    "\n",
    "```python\n",
    "command = ''\n",
    "\n",
    "while command.lower() != 'quit':\n",
    "    command = input('>')\n",
    "    print(f\"Echo: {command}\")\n",
    "```\n",
    "\n",
    "**Örnek çıktı**:\n",
    "\n",
    "```\n",
    ">Hi\n",
    "Echo: Hi\n",
    ">Python while\n",
    "Echo: Python while\n",
    ">quit\n",
    "Echo: quit\n",
    "```\n",
    "\n",
    "**Not**: `command.lower()` komutun küçük harflerle dönmesini sağlar. Bu, 'quit', 'QUIT' veya 'Quit' gibi farklı giriş biçimlerinin hepsinin doğru şekilde çalışmasını sağlar.\n",
    "\n",
    "### **Özet**  \n",
    "Python **while** döngüsü, bir koşul **True** olduğu sürece bir kod bloğunu çalıştırmak için kullanılır."
   ]
  },
  {
   "cell_type": "code",
   "execution_count": null,
   "id": "78728f17-9093-4a95-8287-8a1d4b45248c",
   "metadata": {},
   "outputs": [],
   "source": []
  }
 ],
 "metadata": {
  "kernelspec": {
   "display_name": "Python 3 (ipykernel)",
   "language": "python",
   "name": "python3"
  },
  "language_info": {
   "codemirror_mode": {
    "name": "ipython",
    "version": 3
   },
   "file_extension": ".py",
   "mimetype": "text/x-python",
   "name": "python",
   "nbconvert_exporter": "python",
   "pygments_lexer": "ipython3",
   "version": "3.12.7"
  }
 },
 "nbformat": 4,
 "nbformat_minor": 5
}
