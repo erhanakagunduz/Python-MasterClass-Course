{
 "cells": [
  {
   "cell_type": "markdown",
   "metadata": {},
   "source": [
    "### Python Üçlü (Ternary) Operatörü\n",
    "\n",
    "Merhaba sevgili arkadaşlar,<br>\n",
    "Bu derste Python'da kodlarımızı daha kısa ve daha okunaklı hale getirmemizi sağlayan bir yapıyı inceleyeceğiz: <br>\n",
    "**üçlü operatör**, yani *ternary operator*."
   ]
  },
  {
   "cell_type": "markdown",
   "metadata": {},
   "source": [
    "### Klasik `if...else` Yapısı\n",
    "Bir yaş bilgisi üzerinden bilet fiyatını belirlemek istiyoruz. Klasik `if...else` yapısı aşağıdaki gibi:"
   ]
  },
  {
   "cell_type": "code",
   "execution_count": 1,
   "metadata": {},
   "outputs": [
    {
     "name": "stdout",
     "output_type": "stream",
     "text": [
      "Bilet Fiyatı 20 TL\n"
     ]
    }
   ],
   "source": [
    "yas = 19\n",
    "\n",
    "if yas >= 18:\n",
    "    bilet_fiyati = 20\n",
    "else:\n",
    "    bilet_fiyati = 5\n",
    "\n",
    "print(f\"Bilet Fiyatı {bilet_fiyati} TL\")"
   ]
  },
  {
   "cell_type": "markdown",
   "metadata": {},
   "source": [
    "### Üçlü Operatör Kullanımı\n",
    "Aynı işlemi daha sade bir şekilde üçlü operatör ile yapabiliriz:"
   ]
  },
  {
   "cell_type": "code",
   "execution_count": 2,
   "metadata": {},
   "outputs": [
    {
     "name": "stdout",
     "output_type": "stream",
     "text": [
      "Bilet fiyatı 20 TL'dir.\n"
     ]
    }
   ],
   "source": [
    "yas = 19\n",
    "bilet_fiyati = 20 if yas >= 18 else 5\n",
    "\n",
    "print(f\"Bilet fiyatı {bilet_fiyati} TL'dir.\")"
   ]
  },
  {
   "cell_type": "markdown",
   "metadata": {},
   "source": [
    "### Üçlü Operatör Söz Dizimi\n",
    "\n",
    "```python\n",
    "value_if_true if condition else value_if_false\n",
    "```\n",
    "\n",
    "Bu yapı aşağıdaki `if...else` ifadesine eşdeğerdir:\n",
    "\n",
    "```python\n",
    "if condition:\n",
    "    value_if_true\n",
    "else:\n",
    "    value_if_false\n",
    "```"
   ]
  },
  {
   "cell_type": "markdown",
   "metadata": {},
   "source": [
    "> 💡 **Not:** C#, Java gibi dillerde kullanılan `condition ? value_if_true : value_if_false` yapısı Python’da geçerli değildir. "
   ]
  },
  {
   "cell_type": "markdown",
   "metadata": {},
   "source": [
    "### Özet\n",
    "- Üçlü operatör, `if...else` yapısının daha kısa bir yazımıdır.\n",
    "- Söz dizimi: `value_if_true if condition else value_if_false`\n",
    "- Kodunuzu daha sade ve okunabilir hale getirir."
   ]
  }
 ],
 "metadata": {
  "kernelspec": {
   "display_name": "Python 3",
   "language": "python",
   "name": "python3"
  },
  "language_info": {
   "codemirror_mode": {
    "name": "ipython",
    "version": 3
   },
   "file_extension": ".py",
   "mimetype": "text/x-python",
   "name": "python",
   "nbconvert_exporter": "python",
   "pygments_lexer": "ipython3",
   "version": "3.13.2"
  }
 },
 "nbformat": 4,
 "nbformat_minor": 5
}
