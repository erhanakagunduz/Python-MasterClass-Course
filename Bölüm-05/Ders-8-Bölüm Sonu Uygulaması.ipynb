{
 "cells": [
  {
   "cell_type": "markdown",
   "id": "616bcfaa-bcb5-4c3a-9110-1cefefbb9b81",
   "metadata": {},
   "source": [
    "### Bölüm Sonu Uygulaması: Kullanıcının girdiği sayının tek mi çift mi olduğunu belirleyen bir program\n",
    "\n",
    "```python\n",
    "# Kullanıcıdan sayı alma\n",
    "sayi = int(input(\"Bir sayı girin: \"))\n",
    "\n",
    "# if-else yapısı ile kontrol\n",
    "if sayi % 2 == 0:\n",
    "    print(f\"{sayi} sayısı çifttir.\")\n",
    "else:\n",
    "    print(f\"{sayi} sayısı tektir.\")\n",
    "```\n",
    "\n",
    "**Açıklama**: Bu program, kullanıcıdan bir sayı alır ve bu sayının tek mi yoksa çift mi olduğunu `if-else` yapısı kullanarak kontrol eder. Eğer sayı 2'ye bölünüyorsa çift, aksi takdirde tek olarak kabul edilir.\n",
    "\n",
    "---\n"
   ]
  },
  {
   "cell_type": "code",
   "execution_count": null,
   "id": "a646018c-689d-408f-ad5c-bc5aa80099c7",
   "metadata": {},
   "outputs": [],
   "source": []
  }
 ],
 "metadata": {
  "kernelspec": {
   "display_name": "Python 3 (ipykernel)",
   "language": "python",
   "name": "python3"
  },
  "language_info": {
   "codemirror_mode": {
    "name": "ipython",
    "version": 3
   },
   "file_extension": ".py",
   "mimetype": "text/x-python",
   "name": "python",
   "nbconvert_exporter": "python",
   "pygments_lexer": "ipython3",
   "version": "3.12.7"
  }
 },
 "nbformat": 4,
 "nbformat_minor": 5
}
