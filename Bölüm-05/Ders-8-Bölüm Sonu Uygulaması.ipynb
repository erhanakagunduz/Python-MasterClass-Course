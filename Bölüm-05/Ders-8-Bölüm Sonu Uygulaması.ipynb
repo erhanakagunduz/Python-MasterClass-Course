{
 "cells": [
  {
   "cell_type": "markdown",
   "id": "616bcfaa-bcb5-4c3a-9110-1cefefbb9b81",
   "metadata": {},
   "source": [
    "### Bölüm Sonu Uygulaması: \n",
    "Kullanıcıdan pozitif bir sayı alınız. Bu sayının kaç basamaklı olduğunu bulan bir Python programı yazınız.\n",
    "\n",
    "***Örnek:*** <br>\n",
    "***Girdi***: 7542<br>\n",
    "***Çıktı:*** Bu sayı 4 basamaklıdır.<br>\n",
    "\n",
    "***İpucu:*** Sayıyı her defasında 10’a bölerek kaç defa bölündüğünü sayabilirsiniz.\n"
   ]
  },
  {
   "cell_type": "code",
   "execution_count": null,
   "id": "a646018c-689d-408f-ad5c-bc5aa80099c7",
   "metadata": {},
   "outputs": [],
   "source": []
  }
 ],
 "metadata": {
  "kernelspec": {
   "display_name": "Python 3 (ipykernel)",
   "language": "python",
   "name": "python3"
  },
  "language_info": {
   "codemirror_mode": {
    "name": "ipython",
    "version": 3
   },
   "file_extension": ".py",
   "mimetype": "text/x-python",
   "name": "python",
   "nbconvert_exporter": "python",
   "pygments_lexer": "ipython3",
   "version": "3.12.7"
  }
 },
 "nbformat": 4,
 "nbformat_minor": 5
}
