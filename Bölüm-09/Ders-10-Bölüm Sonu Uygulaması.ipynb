{
 "cells": [
  {
   "cell_type": "markdown",
   "id": "0e9beb18-0269-4ae5-89f4-78cada0f0c2b",
   "metadata": {},
   "source": [
    "### **Bölüm Sonu Uygulaması: Kullanıcıdan iki farklı liste alıp, bu listelerin kesişimini ve birleşimini bulan bir program yazın.**\n",
    "\n",
    "**Açıklama:**\n",
    "Bu programda kullanıcıdan iki farklı liste alacağız ve bu listelerin kesişimini (intersection) ve birleşimini (union) hesaplayacağız.\n",
    "\n",
    "**Kod:**\n",
    "\n",
    "```python\n",
    "# Kullanıcıdan iki farklı liste alıyoruz\n",
    "list1 = input(\"Birinci listeyi girin (elemanlar arasında boşluk bırakın): \").split()\n",
    "list2 = input(\"İkinci listeyi girin (elemanlar arasında boşluk bırakın): \").split()\n",
    "\n",
    "# Listeleri kümelere dönüştürerek işlemi yapıyoruz\n",
    "set1 = set(list1)\n",
    "set2 = set(list2)\n",
    "\n",
    "# Kesişim ve birleşim hesaplama\n",
    "intersection = set1.intersection(set2)\n",
    "union = set1.union(set2)\n",
    "\n",
    "# Sonuçları yazdırıyoruz\n",
    "print(\"\\nBirinci liste:\", set1)\n",
    "print(\"İkinci liste:\", set2)\n",
    "print(\"Kesişim (Intersection):\", intersection)\n",
    "print(\"Birleşim (Union):\", union)\n",
    "```\n",
    "\n",
    "**Çalışma Örneği:**\n",
    "\n",
    "```\n",
    "Birinci listeyi girin (elemanlar arasında boşluk bırakın): a b c d\n",
    "İkinci listeyi girin (elemanlar arasında boşluk bırakın): c d e f\n",
    "\n",
    "Birinci liste: {'a', 'b', 'c', 'd'}\n",
    "İkinci liste: {'c', 'd', 'e', 'f'}\n",
    "Kesişim (Intersection): {'c', 'd'}\n",
    "Birleşim (Union): {'a', 'b', 'c', 'd', 'e', 'f'}\n",
    "```\n",
    "\n",
    "---\n"
   ]
  },
  {
   "cell_type": "code",
   "execution_count": null,
   "id": "a661613e-2bf1-4437-9983-3f20a94b0559",
   "metadata": {},
   "outputs": [],
   "source": []
  }
 ],
 "metadata": {
  "kernelspec": {
   "display_name": "Python 3 (ipykernel)",
   "language": "python",
   "name": "python3"
  },
  "language_info": {
   "codemirror_mode": {
    "name": "ipython",
    "version": 3
   },
   "file_extension": ".py",
   "mimetype": "text/x-python",
   "name": "python",
   "nbconvert_exporter": "python",
   "pygments_lexer": "ipython3",
   "version": "3.12.7"
  }
 },
 "nbformat": 4,
 "nbformat_minor": 5
}
