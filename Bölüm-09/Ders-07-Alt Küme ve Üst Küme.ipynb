{
 "cells": [
  {
   "cell_type": "markdown",
   "id": "86026094-8f6a-40bd-b13f-67ebc0bff9ec",
   "metadata": {},
   "source": [
    "### Python issubset\n",
    "**Özet**: Bu derste, bir setin başka bir setin alt kümesi olup olmadığını kontrol etmek için Python'un `issubset()` metodunu nasıl kullanacağınızı öğreneceksiniz.\n",
    "\n",
    "### Python `issubset()` Metoduna Giriş\n",
    "Diyelim ki A ve B adında iki setiniz var. Set A, set B'nin alt kümesidir eğer A'nın tüm elemanları B'nin de elemanlarıysa. Bu durumda, set B, set A'nın üst kümesidir.\n",
    "\n",
    "Aşağıdaki Venn diyagramı, set A'nın set B'nin alt kümesi olduğunu göstermektedir:"
   ]
  },
  {
   "cell_type": "code",
   "execution_count": 1,
   "id": "405a1947-6bb5-4b84-bc3f-8a03642a6300",
   "metadata": {},
   "outputs": [
    {
     "data": {
      "image/png": "[encoded data removed]",
      "text/plain": [
       "<IPython.core.display.Image object>"
      ]
     },
     "execution_count": 1,
     "metadata": {},
     "output_type": "execute_result"
    }
   ],
   "source": [
    "from IPython.display import Image\n",
    "\n",
    "# Aynı dizindeki bir resmi görüntüleme\n",
    "Image(filename=\"Python-issubset.png\")"
   ]
  },
  {
   "cell_type": "markdown",
   "id": "61d7f358-26d9-48cb-98f5-ddf606a4554b",
   "metadata": {},
   "source": [
    "Set A ve set B eşit olabilir. Eğer set A ve set B eşit değilse, A, B'nin doğru alt kümesidir.\n",
    "\n",
    "Python'da, bir setin başka bir setin alt kümesi olup olmadığını kontrol etmek için `issubset()` metodunu kullanabilirsiniz:\n",
    "\n",
    "```python\n",
    "set_a.issubset(set_b)\n",
    "```\n",
    "\n",
    "Eğer `set_a`, `set_b`'nin alt kümesiyse, `issubset()` metodu `True` döndürülecektir. Aksi takdirde, `False` döndürülür.\n",
    "\n",
    "Aşağıdaki örnek, `set_a`'nın `set_b`'nin alt kümesi olup olmadığını kontrol etmek için `issubset()` metodunu kullanmaktadır:\n",
    "\n",
    "```python\n",
    "numbers = {1, 2, 3, 4, 5}\n",
    "scores = {1, 2, 3}\n",
    "\n",
    "print(scores.issubset(numbers))\n",
    "```\n",
    "\n",
    "**Çıktı:**\n",
    "\n",
    "```\n",
    "True\n",
    "```\n",
    "\n",
    "Tanım gereği, bir set aynı zamanda kendisinin alt kümesidir. Aşağıdaki örnek `True` döndürür:\n",
    "\n",
    "```python\n",
    "numbers = {1, 2, 3, 4, 5}\n",
    "\n",
    "print(numbers.issubset(numbers))\n",
    "```\n",
    "\n",
    "**Çıktı:**\n",
    "\n",
    "```\n",
    "True\n",
    "```\n",
    "\n",
    "Aşağıdaki örnek `False` döndürür, çünkü `numbers` setindeki bazı elemanlar `scores` setinde yer almaz. Diğer bir deyişle, `numbers` seti `scores` setinin alt kümesi değildir:\n",
    "\n",
    "```python\n",
    "numbers = {1, 2, 3, 4, 5}\n",
    "scores = {1, 2, 3}\n",
    "\n",
    "print(numbers.issubset(scores))\n",
    "```\n",
    "\n",
    "**Çıktı:**\n",
    "\n",
    "```\n",
    "False\n",
    "```\n",
    "\n",
    "### Alt Küme Operatörlerinin Kullanımı\n",
    "`issubset()` metodunun yanı sıra, bir setin başka bir setin alt kümesi olup olmadığını kontrol etmek için alt küme operatörünü (<=) kullanabilirsiniz:\n",
    "\n",
    "```python\n",
    "set_a <= set_b\n",
    "```\n",
    "\n",
    "Alt küme operatörü (<=) `set_a`, `set_b`'nin alt kümesi ise `True` döndürülecektir. Aksi takdirde, `False` döndürülür. Örneğin:\n",
    "\n",
    "```python\n",
    "numbers = {1, 2, 3, 4, 5}\n",
    "scores = {1, 2, 3}\n",
    "\n",
    "result = scores <= numbers\n",
    "print(result)  # True\n",
    "\n",
    "result = numbers <= numbers\n",
    "print(result)  # True\n",
    "```\n",
    "\n",
    "Doğru alt küme operatörü (<), `set_a`'nın `set_b`'nin doğru alt kümesi olup olmadığını kontrol eder:\n",
    "\n",
    "```python\n",
    "set_a < set_b\n",
    "```\n",
    "\n",
    "Örneğin:\n",
    "\n",
    "```python\n",
    "numbers = {1, 2, 3, 4, 5}\n",
    "scores = {1, 2, 3}\n",
    "\n",
    "result = scores < numbers\n",
    "print(result)  # True\n",
    "\n",
    "result = numbers < numbers\n",
    "print(result)  # False\n",
    "```\n",
    "\n",
    "Bu örnekte, `numbers` seti kendisinin doğru alt kümesi olmadığı için `<` operatörü `False` döndürür.\n",
    "\n",
    "### Özet\n",
    "Set A, Set B'nin alt kümesi ise, Set A'nın tüm elemanları Set B'nin de elemanlarıdır.\n",
    "- `issubset()` metodunu kullanarak, bir setin başka bir setin alt kümesi olup olmadığını kontrol edebilirsiniz. Eğer alt kümeyse, `True` döndürür.\n",
    "- Ayrıca, alt küme operatörünü (<=) veya doğru alt küme operatörünü (<) kullanarak, bir setin başka bir setin alt kümesi ya da doğru alt kümesi olup olmadığını kontrol edebilirsiniz."
   ]
  },
  {
   "cell_type": "code",
   "execution_count": null,
   "id": "e035f4ee-bca1-415e-9a2c-e90e4e88acd4",
   "metadata": {},
   "outputs": [],
   "source": []
  }
 ],
 "metadata": {
  "kernelspec": {
   "display_name": "Python 3 (ipykernel)",
   "language": "python",
   "name": "python3"
  },
  "language_info": {
   "codemirror_mode": {
    "name": "ipython",
    "version": 3
   },
   "file_extension": ".py",
   "mimetype": "text/x-python",
   "name": "python",
   "nbconvert_exporter": "python",
   "pygments_lexer": "ipython3",
   "version": "3.12.7"
  }
 },
 "nbformat": 4,
 "nbformat_minor": 5
}
