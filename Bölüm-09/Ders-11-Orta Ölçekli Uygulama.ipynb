{
 "cells": [
  {
   "cell_type": "markdown",
   "id": "6935e44c-c2c3-4243-b854-479a2dd17a61",
   "metadata": {},
   "source": [
    "### **Orta Ölçekli Uygulama: Kullanıcının girdiği kelimelerde tekrar eden kelimeleri filtreleyen bir Python programı oluşturun.**\n",
    "\n",
    "**Açıklama:**\n",
    "Bu programda kullanıcıdan kelimeler alacağız ve bu kelimelerde tekrar edenleri filtreleyeceğiz. Tekrar eden kelimeleri bir küme yardımıyla kaldıracağız.\n",
    "\n",
    "**Kod:**\n",
    "\n",
    "```python\n",
    "# Kullanıcıdan kelimeler alıyoruz\n",
    "words = input(\"Kelime listesini girin (kelimeler arasında boşluk bırakın): \").split()\n",
    "\n",
    "# Kelimeleri kümeye dönüştürerek tekrar edenleri filtreliyoruz\n",
    "unique_words = set(words)\n",
    "\n",
    "# Sonuçları yazdırıyoruz\n",
    "print(\"\\nTekrar etmeyen kelimeler:\", unique_words)\n",
    "```\n",
    "\n",
    "**Çalışma Örneği:**\n",
    "\n",
    "```\n",
    "Kelime listesini girin (kelimeler arasında boşluk bırakın): python java python c++ java\n",
    "\n",
    "Tekrar etmeyen kelimeler: {'python', 'java', 'c++'}\n",
    "```\n",
    "\n",
    "---\n",
    "\n",
    "Bu iki uygulama, kümelerin birleşim, kesişim ve benzersiz elemanları elde etme işlemlerinin nasıl yapılacağına dair önemli örnekler sunuyor."
   ]
  },
  {
   "cell_type": "code",
   "execution_count": null,
   "id": "58beb368-41d1-417f-bedb-2ee2bc6a4b5b",
   "metadata": {},
   "outputs": [],
   "source": []
  }
 ],
 "metadata": {
  "kernelspec": {
   "display_name": "Python 3 (ipykernel)",
   "language": "python",
   "name": "python3"
  },
  "language_info": {
   "codemirror_mode": {
    "name": "ipython",
    "version": 3
   },
   "file_extension": ".py",
   "mimetype": "text/x-python",
   "name": "python",
   "nbconvert_exporter": "python",
   "pygments_lexer": "ipython3",
   "version": "3.12.7"
  }
 },
 "nbformat": 4,
 "nbformat_minor": 5
}
