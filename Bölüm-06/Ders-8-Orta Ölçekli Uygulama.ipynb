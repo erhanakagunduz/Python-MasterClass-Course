{
 "cells": [
  {
   "cell_type": "markdown",
   "id": "927c43d6-0d61-450a-a785-d16a7b80208e",
   "metadata": {},
   "source": [
    "### Orta Ölçekli Uygulama: Bir kelimenin palindrom olup olmadığını kontrol eden bir fonksiyon\n",
    "\n",
    "```python\n",
    "# Palindrom kontrol fonksiyonu\n",
    "def palindrom_mu(kelime):\n",
    "    # Kelimeyi ters çevirip karşılaştırma\n",
    "    return kelime == kelime[::-1]\n",
    "\n",
    "# Kullanıcıdan kelime alma\n",
    "kelime = input(\"Bir kelime girin: \")\n",
    "\n",
    "# Palindrom kontrolü\n",
    "if palindrom_mu(kelime):\n",
    "    print(f\"{kelime} bir palindromdur.\")\n",
    "else:\n",
    "    print(f\"{kelime} bir palindrom değildir.\")\n",
    "```\n",
    "\n",
    "**Açıklama**: Bu program, bir kelimenin palindrom olup olmadığını kontrol eder. Palindrom, tersten okunduğunda da aynı olan kelimedir (örneğin, \"level\", \"radar\"). Fonksiyon, kelimeyi ters çevirip, orijinal kelime ile karşılaştırır. Eğer eşleşiyorsa, kelime palindromdur.\n",
    "\n",
    "---"
   ]
  },
  {
   "cell_type": "code",
   "execution_count": null,
   "id": "4e7cd905-439c-49d0-952c-9a171c17742d",
   "metadata": {},
   "outputs": [],
   "source": []
  }
 ],
 "metadata": {
  "kernelspec": {
   "display_name": "Python 3 (ipykernel)",
   "language": "python",
   "name": "python3"
  },
  "language_info": {
   "codemirror_mode": {
    "name": "ipython",
    "version": 3
   },
   "file_extension": ".py",
   "mimetype": "text/x-python",
   "name": "python",
   "nbconvert_exporter": "python",
   "pygments_lexer": "ipython3",
   "version": "3.12.7"
  }
 },
 "nbformat": 4,
 "nbformat_minor": 5
}
