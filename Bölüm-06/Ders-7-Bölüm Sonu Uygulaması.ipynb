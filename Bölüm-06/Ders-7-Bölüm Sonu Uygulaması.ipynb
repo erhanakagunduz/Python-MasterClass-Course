{
 "cells": [
  {
   "cell_type": "markdown",
   "id": "f4404ca5-a1b7-4d98-a4fb-8a265873b7dd",
   "metadata": {},
   "source": [
    "### Bölüm Sonu Uygulaması: Kullanıcının girdiği sayının faktöriyelini hesaplayan bir fonksiyon\n",
    "\n",
    "```python\n",
    "# Faktöriyel hesaplama fonksiyonu\n",
    "def faktoriyel(n):\n",
    "    if n == 0 or n == 1:\n",
    "        return 1\n",
    "    else:\n",
    "        return n * faktoriyel(n - 1)\n",
    "\n",
    "# Kullanıcıdan sayı alma\n",
    "sayi = int(input(\"Bir sayı girin: \"))\n",
    "\n",
    "# Faktöriyel hesaplama\n",
    "print(f\"{sayi} sayısının faktöriyel değeri: {faktoriyel(sayi)}\")\n",
    "```\n",
    "\n",
    "**Açıklama**: Bu programda, `faktoriyel` adlı bir fonksiyon tanımlanır. Fonksiyon, özyinelemeli (recursive) bir yapıya sahiptir ve kullanıcıdan alınan sayının faktöriyelini hesaplar. Faktöriyel, verilen sayının kendisi ile bir önceki sayıların çarpımıdır. Örneğin, `5! = 5 * 4 * 3 * 2 * 1`.\n",
    "\n",
    "---\n"
   ]
  },
  {
   "cell_type": "code",
   "execution_count": null,
   "id": "f554d216-e713-4d17-9634-3bf23a798a33",
   "metadata": {},
   "outputs": [],
   "source": []
  }
 ],
 "metadata": {
  "kernelspec": {
   "display_name": "Python 3 (ipykernel)",
   "language": "python",
   "name": "python3"
  },
  "language_info": {
   "codemirror_mode": {
    "name": "ipython",
    "version": 3
   },
   "file_extension": ".py",
   "mimetype": "text/x-python",
   "name": "python",
   "nbconvert_exporter": "python",
   "pygments_lexer": "ipython3",
   "version": "3.12.7"
  }
 },
 "nbformat": 4,
 "nbformat_minor": 5
}
