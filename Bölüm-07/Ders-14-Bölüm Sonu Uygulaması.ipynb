{
 "cells": [
  {
   "cell_type": "markdown",
   "id": "98e2fa7f-6c79-4fb0-b238-f047b3670207",
   "metadata": {},
   "source": [
    "### **Bölüm Sonu Uygulaması: Kullanıcının Girdiği Kelimeleri Listeye Ekleyip, Alfabetik Olarak Sıralayan Bir Program Yazın**\n",
    "\n",
    "Bu uygulama, kullanıcıdan kelimeler alıp, bunları bir listeye ekleyerek alfabetik sıralamayı gerçekleştirecek.\n",
    "\n",
    "```python\n",
    "# Kullanıcının girdiği kelimeleri listeye ekleyip alfabetik sıralama\n",
    "kelimeler = []\n",
    "\n",
    "# Kullanıcıdan kelime al\n",
    "while True:\n",
    "    kelime = input(\"Bir kelime girin (çıkmak için 'q' tuşlayın): \")\n",
    "    if kelime == 'q':\n",
    "        break\n",
    "    kelimeler.append(kelime)\n",
    "\n",
    "# Listeyi alfabetik olarak sırala\n",
    "kelimeler.sort()\n",
    "\n",
    "# Sıralı listeyi ekrana yazdır\n",
    "print(\"\\nAlfabetik Sıralama:\")\n",
    "for kelime in kelimeler:\n",
    "    print(kelime)\n",
    "```\n",
    "\n",
    "**Çıktı Örneği:**\n",
    "\n",
    "```\n",
    "Bir kelime girin (çıkmak için 'q' tuşlayın): elma\n",
    "Bir kelime girin (çıkmak için 'q' tuşlayın): armut\n",
    "Bir kelime girin (çıkmak için 'q' tuşlayın): q\n",
    "\n",
    "Alfabetik Sıralama:\n",
    "armut\n",
    "elma\n",
    "```\n",
    "\n",
    "---\n"
   ]
  },
  {
   "cell_type": "code",
   "execution_count": null,
   "id": "426a2ef6-24b2-489c-9a53-28f6e0fa6088",
   "metadata": {},
   "outputs": [],
   "source": []
  }
 ],
 "metadata": {
  "kernelspec": {
   "display_name": "Python 3 (ipykernel)",
   "language": "python",
   "name": "python3"
  },
  "language_info": {
   "codemirror_mode": {
    "name": "ipython",
    "version": 3
   },
   "file_extension": ".py",
   "mimetype": "text/x-python",
   "name": "python",
   "nbconvert_exporter": "python",
   "pygments_lexer": "ipython3",
   "version": "3.12.7"
  }
 },
 "nbformat": 4,
 "nbformat_minor": 5
}
