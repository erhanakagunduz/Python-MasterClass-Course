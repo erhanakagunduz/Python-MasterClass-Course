{
 "cells": [
  {
   "cell_type": "markdown",
   "id": "3ff9c11d-14c4-4344-896e-4bb125e5288f",
   "metadata": {},
   "source": [
    "\n",
    "### **Orta Ölçekli Uygulama: Kullanıcının Girdiği Bir Listenin Elemanlarının Karesini Hesaplayan Bir Program Geliştirin**\n",
    "\n",
    "Bu uygulama, kullanıcıdan bir liste alacak ve her bir elemanın karesini hesaplayıp ekrana yazdıracak.\n",
    "\n",
    "```python\n",
    "# Kullanıcının girdiği sayıları listeye ekleyip, karesini hesaplayan program\n",
    "sayilar = []\n",
    "\n",
    "# Kullanıcıdan sayılar al\n",
    "while True:\n",
    "    sayi = input(\"Bir sayı girin (çıkmak için 'q' tuşlayın): \")\n",
    "    if sayi == 'q':\n",
    "        break\n",
    "    try:\n",
    "        sayilar.append(int(sayi))  # Sayıyı listeye ekle\n",
    "    except ValueError:\n",
    "        print(\"Lütfen geçerli bir sayı girin.\")\n",
    "\n",
    "# Listeyi gezerek her sayının karesini hesapla ve yazdır\n",
    "print(\"\\nSayılara ait kareler:\")\n",
    "for sayi in sayilar:\n",
    "    print(f\"{sayi} karesi: {sayi**2}\")\n",
    "```\n",
    "\n",
    "**Çıktı Örneği:**\n",
    "\n",
    "```\n",
    "Bir sayı girin (çıkmak için 'q' tuşlayın): 3\n",
    "Bir sayı girin (çıkmak için 'q' tuşlayın): 5\n",
    "Bir sayı girin (çıkmak için 'q' tuşlayın): q\n",
    "\n",
    "Sayılara ait kareler:\n",
    "3 karesi: 9\n",
    "5 karesi: 25\n",
    "```\n",
    "\n",
    "---\n",
    "\n",
    "### **Kodların Açıklamaları:**\n",
    "\n",
    "1. **Alfabetik Sıralama Uygulaması:**\n",
    "    - Kullanıcıdan sürekli olarak kelimeler alınır.\n",
    "    - `q` tuşuna basıldığında giriş durdurulur.\n",
    "    - `sort()` metodu kullanılarak liste alfabetik olarak sıralanır.\n",
    "    - Son olarak sıralı liste ekrana yazdırılır.\n",
    "\n",
    "2. **Kare Hesaplama Uygulaması:**\n",
    "    - Kullanıcıdan sayılar alınır. Eğer kullanıcı geçerli bir sayı girmezse, hata mesajı gösterilir.\n",
    "    - `try-except` yapısı ile kullanıcıdan alınan verinin bir sayı olduğundan emin olunur.\n",
    "    - Listeye eklenen sayılar üzerinde döngü kurularak her bir sayının karesi hesaplanır ve ekrana yazdırılır.\n",
    "\n",
    "Bu iki örnek, liste ve döngülerle yapılabilecek temel işlemleri kapsayan orta ölçekli uygulamalardır."
   ]
  },
  {
   "cell_type": "code",
   "execution_count": null,
   "id": "fb07a60e-2d54-4ecc-9da1-4ff5559a1aff",
   "metadata": {},
   "outputs": [],
   "source": []
  }
 ],
 "metadata": {
  "kernelspec": {
   "display_name": "Python 3 (ipykernel)",
   "language": "python",
   "name": "python3"
  },
  "language_info": {
   "codemirror_mode": {
    "name": "ipython",
    "version": 3
   },
   "file_extension": ".py",
   "mimetype": "text/x-python",
   "name": "python",
   "nbconvert_exporter": "python",
   "pygments_lexer": "ipython3",
   "version": "3.12.7"
  }
 },
 "nbformat": 4,
 "nbformat_minor": 5
}
