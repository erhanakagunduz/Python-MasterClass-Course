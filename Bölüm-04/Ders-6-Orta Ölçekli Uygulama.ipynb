{
 "cells": [
  {
   "cell_type": "markdown",
   "id": "5b09038f-662a-480f-a98d-77bbb2f3565f",
   "metadata": {},
   "source": [
    "### Orta Ölçekli Uygulama: Basit bir hesap makinesi geliştirerek toplama, çıkarma, çarpma, bölme işlemlerini yapan bir Python programı oluşturun.\n",
    "\n",
    "```python\n",
    "# Hesap makinesi fonksiyonu\n",
    "def hesap_makinesi():\n",
    "    print(\"Basit Hesap Makinesi\")\n",
    "    print(\"Yapmak istediğiniz işlemi seçin:\")\n",
    "    print(\"1. Toplama\")\n",
    "    print(\"2. Çıkarma\")\n",
    "    print(\"3. Çarpma\")\n",
    "    print(\"4. Bölme\")\n",
    "\n",
    "    # Kullanıcıdan işlem seçimi\n",
    "    secim = input(\"Seçiminizi yapın (1/2/3/4): \")\n",
    "\n",
    "    # Kullanıcıdan iki sayı alma\n",
    "    sayi1 = float(input(\"Birinci sayıyı girin: \"))\n",
    "    sayi2 = float(input(\"İkinci sayıyı girin: \"))\n",
    "\n",
    "    if secim == '1':\n",
    "        print(f\"Sonuç: {sayi1 + sayi2}\")\n",
    "    elif secim == '2':\n",
    "        print(f\"Sonuç: {sayi1 - sayi2}\")\n",
    "    elif secim == '3':\n",
    "        print(f\"Sonuç: {sayi1 * sayi2}\")\n",
    "    elif secim == '4':\n",
    "        if sayi2 != 0:\n",
    "            print(f\"Sonuç: {sayi1 / sayi2}\")\n",
    "        else:\n",
    "            print(\"Hata! Sıfıra bölme yapılmaz.\")\n",
    "    else:\n",
    "        print(\"Geçersiz giriş!\")\n",
    "\n",
    "# Fonksiyonu çalıştırma\n",
    "hesap_makinesi()\n",
    "```\n",
    "\n",
    "**Açıklama**: Bu program, kullanıcıdan yapmak istediği işlemi seçmesini ister (toplama, çıkarma, çarpma, bölme) ve iki sayı alarak seçilen işlemi yapar. Bölme işleminde sıfıra bölme hatasına karşı bir kontrol eklenmiştir. Kullanıcı geçersiz bir seçim yaparsa, hata mesajı verir."
   ]
  },
  {
   "cell_type": "code",
   "execution_count": null,
   "id": "754d42c8-88e9-441d-ae5d-0b08ff85abb9",
   "metadata": {},
   "outputs": [],
   "source": []
  }
 ],
 "metadata": {
  "kernelspec": {
   "display_name": "Python 3 (ipykernel)",
   "language": "python",
   "name": "python3"
  },
  "language_info": {
   "codemirror_mode": {
    "name": "ipython",
    "version": 3
   },
   "file_extension": ".py",
   "mimetype": "text/x-python",
   "name": "python",
   "nbconvert_exporter": "python",
   "pygments_lexer": "ipython3",
   "version": "3.12.7"
  }
 },
 "nbformat": 4,
 "nbformat_minor": 5
}
