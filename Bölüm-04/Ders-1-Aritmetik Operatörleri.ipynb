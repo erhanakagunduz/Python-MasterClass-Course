{
 "cells": [
  {
   "cell_type": "markdown",
   "id": "2273d3c6",
   "metadata": {},
   "source": [
    "## Python Arithmetic Operators – Video Konuşma Metni"
   ]
  },
  {
   "cell_type": "markdown",
   "id": "9ad569b3",
   "metadata": {},
   "source": [
    "\n",
    "**Bu derste Python'daki aritmetik operatörleri öğreneceğiz.**  \n",
    "Yani sayılarla matematiksel işlemler yaparken Python’un bize sunduğu araçları birlikte inceleyeceğiz.\n",
    "\n",
    "Hemen bir tabloyla başlayalım ve Python’da hangi aritmetik operatörlerin bulunduğuna bakalım:\n"
   ]
  },
  {
   "cell_type": "markdown",
   "id": "4da5f467",
   "metadata": {},
   "source": [
    "\n",
    "| Operatör | Açıklama        | a  | b  | Örnek     | Sonuç  |\n",
    "|----------|-----------------|----|----|-----------|--------|\n",
    "| `+`      | Toplama         | 5  | 2  | `a + b`   | 7      |\n",
    "| `-`      | Çıkarma         | 5  | 2  | `a - b`   | 3      |\n",
    "| `*`      | Çarpma          | 5  | 2  | `a * b`   | 10     |\n",
    "| `/`      | Bölme (Kesirli) | 5  | 2  | `a / b`   | 2.5    |\n",
    "| `//`     | Tam Bölme       | 5  | 2  | `a // b`  | 2      |\n",
    "| `%`      | Modülüs (Kalan) | 5  | 2  | `a % b`   | 1      |\n",
    "| `**`     | Üssü Alma       | 5  | 2  | `a ** b`  | 25     |\n"
   ]
  },
  {
   "cell_type": "markdown",
   "id": "892625bc",
   "metadata": {},
   "source": [
    "### Toplama (`+`)"
   ]
  },
  {
   "cell_type": "code",
   "execution_count": null,
   "id": "edd7537d",
   "metadata": {},
   "outputs": [],
   "source": [
    "a = 10\n",
    "b = 3\n",
    "result = a + b\n",
    "print(result)"
   ]
  },
  {
   "cell_type": "markdown",
   "id": "98251f98",
   "metadata": {},
   "source": [
    "**Çıktı:**\n",
    "```\n",
    "13\n",
    "```"
   ]
  },
  {
   "cell_type": "markdown",
   "id": "91e02b7b",
   "metadata": {},
   "source": [
    "### Çıkarma (`-`)"
   ]
  },
  {
   "cell_type": "code",
   "execution_count": null,
   "id": "f0123268",
   "metadata": {},
   "outputs": [],
   "source": [
    "a = 10\n",
    "b = 3\n",
    "result = a - b\n",
    "print(result)"
   ]
  },
  {
   "cell_type": "markdown",
   "id": "56524282",
   "metadata": {},
   "source": [
    "**Çıktı:**\n",
    "```\n",
    "7\n",
    "```"
   ]
  },
  {
   "cell_type": "markdown",
   "id": "f410dc50",
   "metadata": {},
   "source": [
    "### Çarpma (`*`)"
   ]
  },
  {
   "cell_type": "code",
   "execution_count": null,
   "id": "0b3def77",
   "metadata": {},
   "outputs": [],
   "source": [
    "a = 10\n",
    "b = 3\n",
    "result = a * b\n",
    "print(result)"
   ]
  },
  {
   "cell_type": "markdown",
   "id": "84e43304",
   "metadata": {},
   "source": [
    "**Çıktı:**\n",
    "```\n",
    "30\n",
    "```"
   ]
  },
  {
   "cell_type": "markdown",
   "id": "0b0e4205",
   "metadata": {},
   "source": [
    "### Bölme (`/`)"
   ]
  },
  {
   "cell_type": "code",
   "execution_count": null,
   "id": "49441996",
   "metadata": {},
   "outputs": [],
   "source": [
    "a = 10\n",
    "b = 3\n",
    "result = a / b\n",
    "print(result)"
   ]
  },
  {
   "cell_type": "markdown",
   "id": "587cd02a",
   "metadata": {},
   "source": [
    "**Çıktı:**\n",
    "```\n",
    "3.3333333333333335\n",
    "```"
   ]
  },
  {
   "cell_type": "markdown",
   "id": "7f5d5df4",
   "metadata": {},
   "source": [
    "### Tam Bölme (`//`)"
   ]
  },
  {
   "cell_type": "code",
   "execution_count": null,
   "id": "6bfaf4ca",
   "metadata": {},
   "outputs": [],
   "source": [
    "a = 10\n",
    "b = 3\n",
    "result = a // b\n",
    "print(result)"
   ]
  },
  {
   "cell_type": "markdown",
   "id": "8ecd4d5d",
   "metadata": {},
   "source": [
    "**Çıktı:**\n",
    "```\n",
    "3\n",
    "```"
   ]
  },
  {
   "cell_type": "markdown",
   "id": "26d18bd1",
   "metadata": {},
   "source": [
    "### Modülüs (`%`)"
   ]
  },
  {
   "cell_type": "code",
   "execution_count": null,
   "id": "6a73166b",
   "metadata": {},
   "outputs": [],
   "source": [
    "a = 10\n",
    "b = 3\n",
    "result = a % b\n",
    "print(result)"
   ]
  },
  {
   "cell_type": "markdown",
   "id": "b6a023ed",
   "metadata": {},
   "source": [
    "**Çıktı:**\n",
    "```\n",
    "1\n",
    "```"
   ]
  },
  {
   "cell_type": "markdown",
   "id": "87853529",
   "metadata": {},
   "source": [
    "### Tek/Çift Kontrolü"
   ]
  },
  {
   "cell_type": "code",
   "execution_count": null,
   "id": "1b714706",
   "metadata": {},
   "outputs": [],
   "source": [
    "a = 101\n",
    "\n",
    "if a % 2 == 1:\n",
    "    print(f'{a} is odd.')\n",
    "else:\n",
    "    print(f'{a} is even.')"
   ]
  },
  {
   "cell_type": "markdown",
   "id": "fb556fb3",
   "metadata": {},
   "source": [
    "**Çıktı:**\n",
    "```\n",
    "101 is odd.\n",
    "```"
   ]
  },
  {
   "cell_type": "markdown",
   "id": "f4e69955",
   "metadata": {},
   "source": [
    "### Artık Yıl Kontrolü"
   ]
  },
  {
   "cell_type": "code",
   "execution_count": null,
   "id": "aa8b5da4",
   "metadata": {},
   "outputs": [],
   "source": [
    "year = 2024\n",
    "\n",
    "if (year % 4 == 0 and year % 100 != 0) or (year % 400 == 0):\n",
    "    print(f\"{year} is a leap year.\")\n",
    "else:\n",
    "    print(f\"{year} is not a leap year.\")"
   ]
  },
  {
   "cell_type": "markdown",
   "id": "a9d12c20",
   "metadata": {},
   "source": [
    "**Çıktı:**\n",
    "```\n",
    "2024 is a leap year.\n",
    "```"
   ]
  },
  {
   "cell_type": "markdown",
   "id": "35dcb9ed",
   "metadata": {},
   "source": [
    "### Üs Alma (`**`)"
   ]
  },
  {
   "cell_type": "code",
   "execution_count": null,
   "id": "47dae045",
   "metadata": {},
   "outputs": [],
   "source": [
    "a = 10\n",
    "b = 3\n",
    "result = a ** b\n",
    "print(result)"
   ]
  },
  {
   "cell_type": "markdown",
   "id": "37e6a114",
   "metadata": {},
   "source": [
    "**Çıktı:**\n",
    "```\n",
    "1000\n",
    "```"
   ]
  },
  {
   "cell_type": "markdown",
   "id": "ec667699",
   "metadata": {},
   "source": [
    "### Bileşik Faiz Hesabı"
   ]
  },
  {
   "cell_type": "code",
   "execution_count": null,
   "id": "ca3fce78",
   "metadata": {},
   "outputs": [],
   "source": [
    "principal = 1000\n",
    "interest_rate = 0.05\n",
    "year = 2\n",
    "amount = principal * (1 + interest_rate) ** year\n",
    "\n",
    "print(f\"Total Amount: ${amount:,.2f}\")"
   ]
  },
  {
   "cell_type": "markdown",
   "id": "e20fe481",
   "metadata": {},
   "source": [
    "**Çıktı:**\n",
    "```\n",
    "Total Amount: $1,102.50\n",
    "```"
   ]
  },
  {
   "cell_type": "markdown",
   "id": "37a26851",
   "metadata": {},
   "source": [
    "\n",
    "### Özet  \n",
    "Bu derste Python’da bulunan tüm aritmetik operatörleri detaylı bir şekilde inceledik.  \n",
    "Toplama, çıkarma, çarpma, bölme gibi temel işlemlerden başlayıp, modülüs ve üs alma gibi gelişmiş işlemlere kadar hepsini örneklerle ele aldık.\n",
    "\n",
    "Bir sonraki derste görüşmek üzere!\n"
   ]
  }
 ],
 "metadata": {},
 "nbformat": 4,
 "nbformat_minor": 5
}
