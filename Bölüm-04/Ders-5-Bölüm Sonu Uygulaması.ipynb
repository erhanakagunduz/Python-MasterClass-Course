{
 "cells": [
  {
   "cell_type": "markdown",
   "id": "be908412-c279-4c98-b100-c4c239523af5",
   "metadata": {},
   "source": [
    "### Bölüm Sonu Uygulaması: Kullanıcıdan iki sayı alıp bu sayılar üzerinde tüm operatörleri uygulayan bir program\n",
    "\n",
    "```python\n",
    "# Kullanıcıdan iki sayı alma\n",
    "sayi1 = float(input(\"Birinci sayıyı girin: \"))\n",
    "sayi2 = float(input(\"İkinci sayıyı girin: \"))\n",
    "\n",
    "# Aritmetik işlemler\n",
    "toplam = sayi1 + sayi2\n",
    "fark = sayi1 - sayi2\n",
    "carpim = sayi1 * sayi2\n",
    "bolum = sayi1 / sayi2 if sayi2 != 0 else \"Tanımsız (bölme sıfıra yapılamaz)\"\n",
    "\n",
    "# Karşılaştırma işlemleri\n",
    "buyuktur = sayi1 > sayi2\n",
    "kucuktur = sayi1 < sayi2\n",
    "esittir = sayi1 == sayi2\n",
    "\n",
    "# Mantıksal işlemler\n",
    "mantiksal_and = (sayi1 > 0) and (sayi2 > 0)\n",
    "mantiksal_or = (sayi1 > 0) or (sayi2 > 0)\n",
    "\n",
    "# Sonuçları ekrana yazdırma\n",
    "print(f\"\\nAritmetik İşlemler:\")\n",
    "print(f\"Toplam: {toplam}\")\n",
    "print(f\"Fark: {fark}\")\n",
    "print(f\"Çarpım: {carpim}\")\n",
    "print(f\"Bölüm: {bolum}\")\n",
    "\n",
    "print(f\"\\nKarşılaştırma İşlemleri:\")\n",
    "print(f\"Sayı 1 büyüktür sayı 2'den: {buyuktur}\")\n",
    "print(f\"Sayı 1 küçüktür sayı 2'den: {kucuktur}\")\n",
    "print(f\"Sayı 1 eşittir sayı 2'ye: {esittir}\")\n",
    "\n",
    "print(f\"\\nMantıksal İşlemler:\")\n",
    "print(f\"Sayı 1 ve sayı 2 pozitif: {mantiksal_and}\")\n",
    "print(f\"Sayı 1 veya sayı 2 pozitif: {mantiksal_or}\")\n",
    "```\n",
    "\n",
    "**Açıklama**: Bu program, kullanıcıdan iki sayı alır ve bu sayılar üzerinde aritmetik, karşılaştırma ve mantıksal operatörleri uygular. Sonuçlar ekrana yazdırılır. Bölme işleminde sıfıra bölme hatasına karşı bir kontrol eklenmiştir.\n",
    "\n",
    "---"
   ]
  },
  {
   "cell_type": "code",
   "execution_count": null,
   "id": "a4fdb4b0-89c4-4e95-afde-278d6932584e",
   "metadata": {},
   "outputs": [],
   "source": []
  }
 ],
 "metadata": {
  "kernelspec": {
   "display_name": "Python 3 (ipykernel)",
   "language": "python",
   "name": "python3"
  },
  "language_info": {
   "codemirror_mode": {
    "name": "ipython",
    "version": 3
   },
   "file_extension": ".py",
   "mimetype": "text/x-python",
   "name": "python",
   "nbconvert_exporter": "python",
   "pygments_lexer": "ipython3",
   "version": "3.12.7"
  }
 },
 "nbformat": 4,
 "nbformat_minor": 5
}
