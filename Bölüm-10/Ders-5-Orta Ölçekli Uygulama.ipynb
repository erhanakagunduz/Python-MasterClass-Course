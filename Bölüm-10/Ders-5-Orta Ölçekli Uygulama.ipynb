{
 "cells": [
  {
   "cell_type": "markdown",
   "id": "401f9a47-3c4c-4a4e-b79b-2a3449193382",
   "metadata": {},
   "source": [
    "### **Orta Ölçekli Uygulama: Dosyanın Var Olup Olmadığını Kontrol Eden Program**  \n",
    "\n",
    "```python\n",
    "def read_file(filename):\n",
    "    \"\"\" Dosyanın var olup olmadığını kontrol eder ve içeriğini okur. \"\"\"\n",
    "    try:\n",
    "        with open(filename, \"r\", encoding=\"utf-8\") as file:\n",
    "            content = file.read()\n",
    "            print(\"\\nDosyanın içeriği:\\n\")\n",
    "            print(content)\n",
    "    except FileNotFoundError:\n",
    "        print(\"Hata! Belirtilen dosya bulunamadı.\")\n",
    "    except PermissionError:\n",
    "        print(\"Hata! Dosyayı okumak için yeterli izniniz yok.\")\n",
    "    except Exception as e:\n",
    "        print(f\"Bilinmeyen bir hata oluştu: {e}\")\n",
    "    finally:\n",
    "        print(\"Dosya işlemi tamamlandı.\")\n",
    "\n",
    "# Kullanıcıdan dosya adını al ve işlemi başlat\n",
    "filename = input(\"Okunacak dosyanın adını girin: \")\n",
    "read_file(filename)\n",
    "```\n",
    "\n",
    "🔹 **Kod Açıklaması:**  \n",
    "✅ Kullanıcıdan bir **dosya adı alır**.  \n",
    "✅ **Dosyanın var olup olmadığı kontrol edilir** (`FileNotFoundError`).  \n",
    "✅ **Dosya okunabiliyor mu?** Kontrol edilir (`PermissionError`).  \n",
    "✅ Eğer başka bir hata varsa, **genel hata yakalanır** (`Exception`).  \n",
    "✅ **Her durumda** `\"Dosya işlemi tamamlandı.\"` mesajı yazdırılır.  \n",
    "\n",
    "---\n"
   ]
  },
  {
   "cell_type": "code",
   "execution_count": null,
   "id": "68078329-db80-498b-825d-90584cf7af34",
   "metadata": {},
   "outputs": [],
   "source": []
  }
 ],
 "metadata": {
  "kernelspec": {
   "display_name": "Python 3 (ipykernel)",
   "language": "python",
   "name": "python3"
  },
  "language_info": {
   "codemirror_mode": {
    "name": "ipython",
    "version": 3
   },
   "file_extension": ".py",
   "mimetype": "text/x-python",
   "name": "python",
   "nbconvert_exporter": "python",
   "pygments_lexer": "ipython3",
   "version": "3.12.7"
  }
 },
 "nbformat": 4,
 "nbformat_minor": 5
}
