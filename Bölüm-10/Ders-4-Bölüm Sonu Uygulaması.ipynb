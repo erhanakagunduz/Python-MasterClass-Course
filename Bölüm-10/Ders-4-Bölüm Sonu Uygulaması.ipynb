{
 "cells": [
  {
   "cell_type": "markdown",
   "id": "e39511af-7f73-4523-acf4-6b99352f1809",
   "metadata": {},
   "source": [
    "### **Bölüm Sonu Uygulaması: Sıfıra Bölme Hatasını Yakalayan Program**  \n",
    "\n",
    "```python\n",
    "def divide_numbers():\n",
    "    \"\"\" Kullanıcının girdiği iki sayıyı böler ve sıfıra bölme hatasını yakalar. \"\"\"\n",
    "    try:\n",
    "        num1 = float(input(\"Birinci sayıyı girin: \"))\n",
    "        num2 = float(input(\"İkinci sayıyı girin: \"))\n",
    "\n",
    "        result = num1 / num2\n",
    "    except ZeroDivisionError:\n",
    "        print(\"Hata! Bir sayı sıfıra bölünemez.\")\n",
    "    except ValueError:\n",
    "        print(\"Hata! Lütfen geçerli bir sayı girin.\")\n",
    "    else:\n",
    "        print(f\"Sonuç: {result}\")\n",
    "    finally:\n",
    "        print(\"İşlem tamamlandı.\")\n",
    "\n",
    "# Fonksiyonu çağırarak çalıştır\n",
    "divide_numbers()\n",
    "```\n",
    "\n",
    "🔹 **Kod Açıklaması:**  \n",
    "✅ Kullanıcı **iki sayı girer**.  \n",
    "✅ **Sıfıra bölme hatası (`ZeroDivisionError`) veya geçersiz giriş hatası (`ValueError`) yakalanır**.  \n",
    "✅ Hata yoksa **bölme işlemi yapılır** ve sonuç gösterilir.  \n",
    "✅ **Her durumda** `\"İşlem tamamlandı.\"` mesajı ekrana yazdırılır.  \n",
    "\n",
    "---\n",
    "\n"
   ]
  },
  {
   "cell_type": "code",
   "execution_count": null,
   "id": "6d909f60-05ae-461f-9b4d-467d402be070",
   "metadata": {},
   "outputs": [],
   "source": []
  }
 ],
 "metadata": {
  "kernelspec": {
   "display_name": "Python 3 (ipykernel)",
   "language": "python",
   "name": "python3"
  },
  "language_info": {
   "codemirror_mode": {
    "name": "ipython",
    "version": 3
   },
   "file_extension": ".py",
   "mimetype": "text/x-python",
   "name": "python",
   "nbconvert_exporter": "python",
   "pygments_lexer": "ipython3",
   "version": "3.12.7"
  }
 },
 "nbformat": 4,
 "nbformat_minor": 5
}
