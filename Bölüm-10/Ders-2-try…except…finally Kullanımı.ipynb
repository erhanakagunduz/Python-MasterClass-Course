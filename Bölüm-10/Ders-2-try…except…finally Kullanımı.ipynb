{
 "cells": [
  {
   "cell_type": "markdown",
   "id": "a8d851f3-1da4-4b82-bc38-8bd45d4d8f4d",
   "metadata": {},
   "source": [
    "### **Python `try…except…finally`**  \n",
    "\n",
    "**Özet:** Bu eğitimde, Python’un `try...except...finally` ifadesini öğreneceksiniz.  \n",
    "\n",
    "---\n",
    "\n",
    "## **Python `try…except…finally` İfadesine Giriş**  \n",
    "\n",
    "`try...except` ifadesi, **bir veya birden fazla hatayı yakalamanıza** ve bunları `except` bloklarında işlemenize olanak tanır.  \n",
    "\n",
    "Buna ek olarak, `try...except` ifadesi **isteğe bağlı olarak** bir `finally` bloğu içerebilir:  \n",
    "\n",
    "```python\n",
    "try:\n",
    "    # Hata oluşturabilecek kod\n",
    "except:\n",
    "    # Hataları ele alan kod\n",
    "finally:\n",
    "    # Temizlik işlemleri için kod\n",
    "```\n",
    "\n",
    "🔹 **`finally` bloğu, bir hata oluşsa da oluşmasa da her zaman çalışır.**  \n",
    "🔹 **`finally`, `try` ve `except` bloklarından sonra çalışır.**  \n",
    "\n",
    "Aşağıdaki akış şeması, `try...except...finally` yapısının nasıl çalıştığını göstermektedir:"
   ]
  },
  {
   "cell_type": "code",
   "execution_count": 4,
   "id": "29ceb7ff-1988-43a5-a12d-f08b7e99ec78",
   "metadata": {},
   "outputs": [
    {
     "data": {
      "image/png": "[encoded data removed]",
      "text/plain": [
       "<IPython.core.display.Image object>"
      ]
     },
     "execution_count": 4,
     "metadata": {
      "image/png": {
       "height": 225,
       "width": 300
      }
     },
     "output_type": "execute_result"
    }
   ],
   "source": [
    "from IPython.display import Image\n",
    "\n",
    "# Genişlik ve yükseklik ayarı\n",
    "Image(filename=\"try-except-finally.png\", width=300, height=225)"
   ]
  },
  {
   "cell_type": "markdown",
   "id": "23579d1b-ac45-49e9-bfcf-26c8dcfff9ff",
   "metadata": {},
   "source": [
    "### **Python `try…except…finally` İfadesi Örnekleri**  \n",
    "\n",
    "Aşağıdaki örnek, `try...except...finally` ifadesinin kullanımını göstermektedir:  \n",
    "\n",
    "```python\n",
    "a = 10\n",
    "b = 0\n",
    "\n",
    "try:\n",
    "    c = a / b\n",
    "    print(c)\n",
    "except ZeroDivisionError as error:\n",
    "    print(error)\n",
    "finally:\n",
    "    print('İşlem tamamlandı.')\n",
    "```\n",
    "\n",
    "📌 **Çıktı:**  \n",
    "```\n",
    "division by zero  \n",
    "İşlem tamamlandı.\n",
    "```\n",
    "\n",
    "**Açıklama:**  \n",
    "- `try` bloğundaki kod **ZeroDivisionError** hatasına neden olur.  \n",
    "- Hata yakalanarak `except` bloğundaki kod çalıştırılır.  \n",
    "- **`finally` bloğu her durumda çalıştığı için mesaj ekrana yazdırılır.**  \n",
    "\n",
    "---\n",
    "\n",
    "Aşağıdaki örnekte, `try` bloğunda hata oluşmaz. Bu yüzden `try` ve `finally` blokları çalışır:  \n",
    "\n",
    "```python\n",
    "a = 10\n",
    "b = 2\n",
    "\n",
    "try:\n",
    "    c = a / b\n",
    "    print(c)\n",
    "except ZeroDivisionError as error:\n",
    "    print(error)\n",
    "finally:\n",
    "    print('İşlem tamamlandı.')\n",
    "```\n",
    "\n",
    "📌 **Çıktı:**  \n",
    "```\n",
    "5.0  \n",
    "İşlem tamamlandı.\n",
    "```\n",
    "\n",
    "---\n",
    "\n",
    "## **Python `try…finally` İfadesi**  \n",
    "\n",
    "`try...except...finally` ifadesinde **`except` bloğu isteğe bağlıdır**. Yani şu şekilde de yazılabilir:  \n",
    "\n",
    "```python\n",
    "try:\n",
    "    # Hata oluşturabilecek kod\n",
    "finally:\n",
    "    # Her durumda çalışacak kod\n",
    "```\n",
    "\n",
    "🔹 **Genellikle, hatayı ele alamadığınız ama kaynakları temizlemek istediğiniz durumlarda kullanılır.**  \n",
    "🔹 **Örneğin, açılmış bir dosyayı kapatmak için kullanılabilir.**  \n",
    "\n",
    "---\n",
    "\n",
    "## **Özet**  \n",
    "✅ **Python `try...except...finally` ifadesi, hata oluşsa da oluşmasa da belirli bir kodun çalışmasını sağlar.**  \n",
    "✅ **`finally` bloğu, dosya kapatma gibi kaynak temizleme işlemleri için kullanılır.**"
   ]
  },
  {
   "cell_type": "code",
   "execution_count": null,
   "id": "d7adc022-c306-46cd-9d1b-70ccecca62ff",
   "metadata": {},
   "outputs": [],
   "source": []
  }
 ],
 "metadata": {
  "kernelspec": {
   "display_name": "Python 3 (ipykernel)",
   "language": "python",
   "name": "python3"
  },
  "language_info": {
   "codemirror_mode": {
    "name": "ipython",
    "version": 3
   },
   "file_extension": ".py",
   "mimetype": "text/x-python",
   "name": "python",
   "nbconvert_exporter": "python",
   "pygments_lexer": "ipython3",
   "version": "3.12.7"
  }
 },
 "nbformat": 4,
 "nbformat_minor": 5
}
