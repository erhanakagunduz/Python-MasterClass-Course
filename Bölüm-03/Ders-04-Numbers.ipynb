{
 "cells": [
  {
   "cell_type": "markdown",
   "id": "ea151d07",
   "metadata": {},
   "source": [
    "# Python Numbers (Sayılar)\n",
    "Merhaba sevgili arkadaşlar! <br>\n",
    "Bu dersimizde **Python'da Numbers** yani **Sayılar** konusunu öğreneceğiz. <br>\n",
    "Python, farklı sayı türlerini destekler ve birçok matematiksel işlem yapmamıza olanak tanır.<br>\n",
    "\n",
    "## 📌 Sayı Türleri\n",
    "\n",
    "### 🔹 Integer (Tam Sayılar)\n",
    "Tam sayılar, negatif veya pozitif olabilir, ayrıca sıfır da bir tam sayıdır.\n",
    "\n",
    "```python\n",
    "x = 10\n",
    "y = -5\n",
    "z = 0\n",
    "print(type(x), type(y), type(z))\n"
   ]
  },
  {
   "cell_type": "markdown",
   "id": "5a38d19c",
   "metadata": {},
   "source": [
    "### 🔹 Float (Ondalıklı Sayılar)\n",
    "Matematikte sıkça kullanılan ondalıklı sayılar, float veri tipiyle gösterilir.\n",
    "```python\n",
    "pi = 3.14\n",
    "g = -0.7\n",
    "print(type(pi), type(g))\n"
   ]
  },
  {
   "cell_type": "markdown",
   "id": "d4837395",
   "metadata": {},
   "source": [
    "### 🔹 Complex (Karmaşık Sayılar)\n",
    "Python'da karmaşık sayılar j eklenerek oluşturulur.\n",
    "```python\n",
    "c = 2 + 3j\n",
    "print(type(c))\n"
   ]
  },
  {
   "cell_type": "markdown",
   "id": "5d74431a",
   "metadata": {},
   "source": [
    "### 📌 Matematiksel İşlemler\n",
    "Python'da temel matematiksel işlemler:\n",
    "```python\n",
    "a = 10\n",
    "b = 4\n",
    "\n",
    "# Toplama ve Çıkarma\n",
    "print(a + b)  # 14\n",
    "print(a - b)  # 6\n",
    "\n",
    "# Çarpma ve Bölme\n",
    "print(a * b)  # 40\n",
    "print(a / b)  # 2.5\n",
    "\n",
    "# Modül (Kalan) ve Üs Alma\n",
    "print(a % b)  # 2\n",
    "print(a ** b) # 10000\n"
   ]
  },
  {
   "cell_type": "markdown",
   "id": "77286cef",
   "metadata": {},
   "source": [
    "### 📌 math Modülü ile Gelişmiş Matematik\n",
    "Python’un math modülü sayesinde daha karmaşık hesaplamalar yapabiliriz.\n",
    "```python\n",
    "import math\n",
    "print(math.sqrt(16))  # 4.0\n",
    "print(math.pow(2, 3)) # 8.0\n",
    "print(math.sin(math.pi / 2)) # 1.0\n"
   ]
  },
  {
   "cell_type": "markdown",
   "id": "9d96f5f8",
   "metadata": {},
   "source": [
    "### Kapanış\n",
    "Bu derste Python'da Numbers konusunu öğrendik:\n",
    "\n",
    "📌 Integer, Float ve Complex veri tiplerini tanıdık.\n",
    "\n",
    "📌 Matematiksel işlemleri inceledik.\n",
    "\n",
    "📌 math modülü ile gelişmiş hesaplamalar yaptık."
   ]
  },
  {
   "cell_type": "markdown",
   "id": "e4fbc78e",
   "metadata": {},
   "source": []
  }
 ],
 "metadata": {
  "kernelspec": {
   "display_name": "",
   "name": ""
  },
  "language_info": {
   "name": ""
  }
 },
 "nbformat": 4,
 "nbformat_minor": 5
}
