{
 "cells": [
  {
   "cell_type": "markdown",
   "id": "e56aa35d-bce4-4895-903f-a4f2298ac1ca",
   "metadata": {
    "jp-MarkdownHeadingCollapsed": true
   },
   "source": [
    "<span style=\"color:red; font-size:24px\">📘 Python Nedir?</span>\n",
    "<br>\n",
    "Python, yüksek seviyeli, yorumlanmış ve geniş bir kütüphane desteğine sahip bir programlama dilidir.\n",
    "\n",
    "***Hedef:*** Okunabilir, yazması kolay ve esnek kodlar yazmak.\n",
    "\n",
    "<span style=\"color:red; font-size:24px\">📘 Python’da Yorum Satırları</span>\n",
    "\n",
    "Python'da yorum satırları ***#*** ile başlar.\n",
    "\n",
    "***Yorumlar,*** kodu açıklamak için kullanılır, programın çalışmasına etki etmez.\n",
    "\n",
    "```python\n",
    "print(\"Merhaba Dünya\")  # Bu da bir yorum\n",
    "```\n",
    "\n",
    "<span style=\"color:red; font-size:24px\">📘 Değişkenler ve Veri Tipleri</span>\n",
    "***Değişkenler:*** Veri saklamak için kullanılır.\n",
    "\n",
    "***Veri tipleri:*** int, float, str, bool vb.\n",
    "\n",
    "```python\n",
    "sayi   = 10          # int \n",
    "pi     = 3.14        # float \n",
    "isim   = \"Erhan\"     # string \n",
    "dogru  = True        # boolean\n",
    "```\n"
   ]
  },
  {
   "cell_type": "markdown",
   "id": "e94a7f63-08f4-46de-a91b-47ea5e633e52",
   "metadata": {},
   "source": [
    "\n",
    "\n"
   ]
  },
  {
   "cell_type": "markdown",
   "id": "b2bf0b88-beed-4717-a4bd-5d40c2e1a3c1",
   "metadata": {},
   "source": [
    "\n",
    "<span style=\"color:red; font-size:24px\">📘 Python’da Temel Yapılar da Sözdizim Örnekleri</span> \n",
    "\n",
    "### ***if-else*** yapısında sözdizimi\n",
    "\n",
    "```python\n",
    "yas = 20\n",
    "if yas >= 18:\n",
    "    print(\"Yetişkinsiniz.\")\n",
    "else:\n",
    "    print(\"Çocuksunuz.\")\n",
    "```\n",
    "\n",
    "### ***Döngü*** yapısında sözdizimi \n",
    "***for*** ve ***while*** döngüleri ile yinelemeli işlemler yapılabilir.\n",
    "```python\n",
    "# for döngüsü\n",
    "for i in range(5):\n",
    "    print(i)\n",
    "\n",
    "# while döngüsü\n",
    "sayi = 0\n",
    "while sayi < 5:\n",
    "    print(sayi)\n",
    "    sayi += 1\n",
    "```\n",
    "\n",
    "### ***Fonksiyonlar*** yapısında sözdizimi \n",
    "\n",
    "***def*** anahtar kelimesi ile fonksiyonlar tanımlanır.\n",
    "```python\n",
    "def selamla(isim):\n",
    "    print(f\"Merhaba, {isim}!\")\n",
    "\n",
    "selamla(\"Erhan\")\n",
    "```\n"
   ]
  },
  {
   "cell_type": "code",
   "execution_count": null,
   "id": "90d8f1c9-b1cb-4b36-9f02-4d85abeeb288",
   "metadata": {},
   "outputs": [],
   "source": []
  }
 ],
 "metadata": {
  "kernelspec": {
   "display_name": "Python 3 (ipykernel)",
   "language": "python",
   "name": "python3"
  },
  "language_info": {
   "codemirror_mode": {
    "name": "ipython",
    "version": 3
   },
   "file_extension": ".py",
   "mimetype": "text/x-python",
   "name": "python",
   "nbconvert_exporter": "python",
   "pygments_lexer": "ipython3",
   "version": "3.13.2"
  }
 },
 "nbformat": 4,
 "nbformat_minor": 5
}
