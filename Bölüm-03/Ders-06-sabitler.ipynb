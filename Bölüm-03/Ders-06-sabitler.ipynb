{
 "cells": [
  {
   "cell_type": "code",
   "execution_count": null,
   "id": "faf592af-681e-4cee-88cd-a7916c96dd21",
   "metadata": {},
   "outputs": [],
   "source": []
  },
  {
   "cell_type": "markdown",
   "id": "9a7a2e61",
   "metadata": {},
   "source": [
    "## 📚 Python'da Sabitler (Constants) — Temel Kavramlar ve Uygulama\n",
    "Merhaba sevgili arkadaşlar,<br>\n",
    "Bu derste sizlerle Python programlama dilinde sabitler (constants) kavramını öğreneceğiz.<br>\n",
    "Sabitler, yazılım geliştirme süreçlerinde kodun güvenliğini, okunabilirliğini ve bakım kolaylığını artırmak için kritik öneme sahiptir.<br>\n",
    "\n",
    "**🎯 Sabit (Constant) Nedir?**<br>\n",
    "Sabit, bir programın çalışması süresince değeri değiştirilmeyen veri öğesidir.<br><br>\n",
    "\n",
    "Python dinamik ve esnek bir dil olduğu için, teknik olarak gerçek sabit kavramı bulunmaz.<br>\n",
    "Ancak yazılımcılar, sabitleri büyük harflerle yazarak bu kuralı kendi aralarında uygularlar.<br>\n",
    "\n",
    "### 🧩 Örnek: Python’da Sabit Tanımlama"
   ]
  },
  {
   "cell_type": "code",
   "execution_count": 3,
   "id": "1b62b887",
   "metadata": {},
   "outputs": [
    {
     "name": "stdout",
     "output_type": "stream",
     "text": [
      "PI: 3.14159\n",
      "GRAVITY: 9.81\n",
      "MAX_USERS: 1000\n"
     ]
    }
   ],
   "source": [
    "# Sabitler büyük harfle tanımlanır\n",
    "PI = 3.14159\n",
    "GRAVITY = 9.81\n",
    "MAX_USERS = 1000\n",
    "\n",
    "print(\"PI:\", PI)\n",
    "print(\"GRAVITY:\", GRAVITY)\n",
    "print(\"MAX_USERS:\", MAX_USERS)"
   ]
  },
  {
   "cell_type": "markdown",
   "id": "49d1089f",
   "metadata": {},
   "source": [
    "## ⚙️ Sabitlerin Kullanım Alanları\n",
    "Sabitler genellikle:\n",
    "\n",
    "Matematiksel sabitler (örnek: π sayısı),\n",
    "\n",
    "Sistem ayarları (örnek: maksimum kullanıcı sayısı),\n",
    "\n",
    "Değişmeyecek metinler veya parametreler için kullanılır.\n",
    "\n",
    "Örneğin bir dairenin çevresini hesaplarken:"
   ]
  },
  {
   "cell_type": "code",
   "execution_count": 5,
   "id": "2ea4f5d5",
   "metadata": {},
   "outputs": [
    {
     "name": "stdout",
     "output_type": "stream",
     "text": [
      "Yarıçapı 5 olan dairenin çevresi: 31.4159\n"
     ]
    }
   ],
   "source": [
    "def daire_cevresi_hesapla(yaricap):\n",
    "    return 2 * PI * yaricap\n",
    "\n",
    "# Örnek kullanım\n",
    "print(\"Yarıçapı 5 olan dairenin çevresi:\", daire_cevresi_hesapla(5))\n"
   ]
  },
  {
   "cell_type": "markdown",
   "id": "a3f6424b",
   "metadata": {},
   "source": [
    "## 🛡️ İyi Uygulamalar (Best Practices)\n",
    "Sabitler dosyanın en üstünde tanımlanmalıdır.\n",
    "\n",
    "Sabitler merkezi bir dosyada toplanabilir. (Örneğin: sabitler.py)\n",
    "\n",
    "İsimlendirme tamamen büyük harflerle yapılmalı ve gerekirse alt çizgi _ kullanılmalıdır.\n",
    "\n",
    "***Örnek bir sabitler.py dosyası:***"
   ]
  },
  {
   "cell_type": "code",
   "execution_count": 6,
   "id": "a8f2f355",
   "metadata": {},
   "outputs": [],
   "source": [
    "PI = 3.14159\n",
    "GRAVITY = 9.81\n",
    "APP_NAME = \"Python Masterclass\"\n",
    "MAX_LOGIN_ATTEMPTS = 5\n"
   ]
  },
  {
   "cell_type": "markdown",
   "id": "c521c81e",
   "metadata": {},
   "source": [
    "***örnek bir main dosyası***\n",
    "\n",
    "Bu sabitleri başka bir dosyada şöyle kullanabiliriz:"
   ]
  },
  {
   "cell_type": "markdown",
   "id": "5758c6f6",
   "metadata": {},
   "source": [
    "```python\n",
    "import constants\n",
    "\n",
    "print(constants.APP_NAME)\n",
    "print(constants.PI)\n",
    "```\n"
   ]
  },
  {
   "cell_type": "markdown",
   "id": "c82c949e",
   "metadata": {},
   "source": [
    "### 🚀 Geleceğe Dönük Not\n",
    "\n",
    "Profesyonel projelerde:\n",
    "\n",
    "Sabitler konfigürasyon dosyalarına (örnek: .env, .yaml) alınır.\n",
    "\n",
    "Çevre değişkenleri (environment variables) ile yönetilir.\n",
    "\n",
    "Bu sayede sistemler daha esnek, daha güvenli hale getirilir.\n",
    "\n",
    "Bu konuları ileri seviye bölümlerde daha detaylı olarak işleyeceğiz.\n",
    "\n",
    "✅ Sonuç\n",
    "Bu derste:\n",
    "\n",
    "Python’da sabit kavramını tanıdık,\n",
    "\n",
    "Sabitlerin nasıl tanımlandığını ve kullanıldığını öğrendik,\n",
    "\n",
    "Proje mimarisi açısından doğru sabit yönetiminin önemine değindik.\n",
    "\n",
    "Büyük başarılar küçük doğru adımlarla başlar.\n",
    "\n",
    "Sabitler gibi temel konuları doğru kavrarsanız, yazılım kariyerinizde sağlam bir temel atmış olursunuz!"
   ]
  }
 ],
 "metadata": {
  "kernelspec": {
   "display_name": "Python 3",
   "language": "python",
   "name": "python3"
  },
  "language_info": {
   "codemirror_mode": {
    "name": "ipython",
    "version": 3
   },
   "file_extension": ".py",
   "mimetype": "text/x-python",
   "name": "python",
   "nbconvert_exporter": "python",
   "pygments_lexer": "ipython3",
   "version": "3.13.2"
  }
 },
 "nbformat": 4,
 "nbformat_minor": 5
}
