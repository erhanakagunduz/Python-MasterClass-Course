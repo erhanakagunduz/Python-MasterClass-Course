{
 "cells": [
  {
   "cell_type": "code",
   "execution_count": null,
   "id": "faf592af-681e-4cee-88cd-a7916c96dd21",
   "metadata": {},
   "outputs": [],
   "source": []
  },
  {
   "cell_type": "markdown",
   "id": "9a7a2e61",
   "metadata": {},
   "source": [
    "## 📚 Python'da Sabitler (Constants) — Temel Kavramlar ve Uygulama\n",
    "Merhaba sevgili arkadaşlar,<br>\n",
    "Bu derste sizlerle Python programlama dilinde sabitler (constants) kavramını öğreneceğiz.<br>\n",
    "Sabitler, yazılım geliştirme süreçlerinde kodun güvenliğini, okunabilirliğini ve bakım kolaylığını artırmak için kritik öneme sahiptir.<br>\n",
    "\n",
    "**🎯 Sabit (Constant) Nedir?**<br>\n",
    "Sabit, bir programın çalışması süresince değeri değiştirilmeyen veri öğesidir.<br><br>\n",
    "\n",
    "Python dinamik ve esnek bir dil olduğu için, teknik olarak gerçek sabit kavramı bulunmaz.<br>\n",
    "Ancak yazılımcılar, sabitleri büyük harflerle yazarak bu kuralı kendi aralarında uygularlar.<br>\n",
    "\n",
    "### 🧩 Örnek: Python’da Sabit Tanımlama"
   ]
  },
  {
   "cell_type": "code",
   "execution_count": null,
   "id": "1b62b887",
   "metadata": {},
   "outputs": [
    {
     "name": "stdout",
     "output_type": "stream",
     "text": [
      "PI: 3.14159\n",
      "Yer Çekimi: 9.81\n",
      "Maksimum Kullanıcı: 1000\n"
     ]
    }
   ],
   "source": [
    "# Sabitler büyük harfle tanımlanır\n",
    "PI = 3.14159\n",
    "GRAVITY = 9.81\n",
    "MAX_USERS = 1000\n",
    "\n",
    "print(\"PI:\", PI)\n",
    "print(\"GRAVITY:\", GRAVITY)\n",
    "print(\"MAX_USERS:\", MAX_USERS)"
   ]
  },
  {
   "cell_type": "code",
   "execution_count": null,
   "id": "888d932d",
   "metadata": {},
   "outputs": [],
   "source": []
  }
 ],
 "metadata": {
  "kernelspec": {
   "display_name": "Python 3",
   "language": "python",
   "name": "python3"
  },
  "language_info": {
   "codemirror_mode": {
    "name": "ipython",
    "version": 3
   },
   "file_extension": ".py",
   "mimetype": "text/x-python",
   "name": "python",
   "nbconvert_exporter": "python",
   "pygments_lexer": "ipython3",
   "version": "3.13.2"
  }
 },
 "nbformat": 4,
 "nbformat_minor": 5
}
