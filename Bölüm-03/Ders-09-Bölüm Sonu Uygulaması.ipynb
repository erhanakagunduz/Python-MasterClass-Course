{
 "cells": [
  {
   "cell_type": "markdown",
   "id": "be4259a6-d95e-4035-8bd8-77f6b197d41c",
   "metadata": {},
   "source": [
    "### Bölüm Sonu Uygulaması: Kullanıcıdan aldığı ismi ve yaşını ekrana yazdıran bir program\n",
    "\n",
    "```python\n",
    "# Kullanıcıdan isim ve yaş alma\n",
    "isim = input(\"Lütfen isminizi girin: \")\n",
    "yas = input(\"Lütfen yaşınızı girin: \")\n",
    "\n",
    "# Yaş bilgisini sayıya dönüştürme\n",
    "yas = int(yas)\n",
    "\n",
    "# Kullanıcıya ekranda yazdırma\n",
    "print(f\"Merhaba {isim}, yaşınız {yas}.\")\n",
    "```\n",
    "\n",
    "**Açıklama**: Bu program, kullanıcıdan ismini ve yaşını alır ve yaş bilgisini tam sayı (integer) olarak dönüştürür. Ardından kullanıcıya hoş geldin mesajını ve yaşını ekrana yazdırır.\n",
    "\n",
    "---"
   ]
  },
  {
   "cell_type": "code",
   "execution_count": null,
   "id": "3e5481e1-1cf4-4929-8374-7b16e36015cb",
   "metadata": {},
   "outputs": [],
   "source": []
  }
 ],
 "metadata": {
  "kernelspec": {
   "display_name": "Python 3 (ipykernel)",
   "language": "python",
   "name": "python3"
  },
  "language_info": {
   "codemirror_mode": {
    "name": "ipython",
    "version": 3
   },
   "file_extension": ".py",
   "mimetype": "text/x-python",
   "name": "python",
   "nbconvert_exporter": "python",
   "pygments_lexer": "ipython3",
   "version": "3.12.7"
  }
 },
 "nbformat": 4,
 "nbformat_minor": 5
}
