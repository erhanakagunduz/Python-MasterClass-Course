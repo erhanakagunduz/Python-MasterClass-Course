{
 "cells": [
  {
   "cell_type": "markdown",
   "id": "1bdbc048-b919-4b1c-8f4f-a9d552e4bb8a",
   "metadata": {},
   "source": [
    "### Orta Ölçekli Uygulama: Basit bir öğrenci kayıt sistemi geliştirerek isim, yaş ve öğrenci numarası bilgilerini değişkenler kullanarak saklayın.\n",
    "\n",
    "```python\n",
    "# Öğrenci bilgilerini alıyoruz\n",
    "isim = input(\"Öğrencinin ismini girin: \")\n",
    "yas = input(\"Öğrencinin yaşını girin: \")\n",
    "ogrenci_numarasi = input(\"Öğrencinin numarasını girin: \")\n",
    "\n",
    "# Yaş bilgisini sayıya dönüştürme\n",
    "yas = int(yas)\n",
    "\n",
    "# Öğrenci bilgilerini ekrana yazdırma\n",
    "print(\"\\n--- Öğrenci Bilgileri ---\")\n",
    "print(f\"İsim: {isim}\")\n",
    "print(f\"Yaş: {yas}\")\n",
    "print(f\"Öğrenci Numarası: {ogrenci_numarasi}\")\n",
    "\n",
    "# Verilerin doğruluğunu kontrol etmek için ekrana yazdırma\n",
    "print(\"\\nKayıt başarılı! Öğrenci verileri şu şekilde kaydedildi.\")\n",
    "print(f\"Öğrencinin adı: {isim}, Yaşı: {yas}, Öğrenci Numarası: {ogrenci_numarasi}\")\n",
    "```\n",
    "\n",
    "**Açıklama**: Bu program, kullanıcıdan öğrenci bilgilerini alır (isim, yaş, öğrenci numarası). Yaş verisini sayıya dönüştürür ve ardından alınan bilgileri ekrana yazdırır. Kullanıcıya kayıt işleminin başarılı olduğunu gösterir.\n",
    "\n",
    "---"
   ]
  },
  {
   "cell_type": "code",
   "execution_count": null,
   "id": "b8ed1b26-6b50-4556-a103-4513d9ccb840",
   "metadata": {},
   "outputs": [],
   "source": []
  }
 ],
 "metadata": {
  "kernelspec": {
   "display_name": "Python 3 (ipykernel)",
   "language": "python",
   "name": "python3"
  },
  "language_info": {
   "codemirror_mode": {
    "name": "ipython",
    "version": 3
   },
   "file_extension": ".py",
   "mimetype": "text/x-python",
   "name": "python",
   "nbconvert_exporter": "python",
   "pygments_lexer": "ipython3",
   "version": "3.12.7"
  }
 },
 "nbformat": 4,
 "nbformat_minor": 5
}
