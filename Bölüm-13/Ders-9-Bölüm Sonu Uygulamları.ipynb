{
 "cells": [
  {
   "cell_type": "markdown",
   "id": "94c9d640-374f-4708-a756-4e3ab49341f3",
   "metadata": {},
   "source": [
    "Şimdi, kullanıcının girdiği verileri bir dosyaya kaydeden bir program yazabiliriz. Bu, temel dosya okuma ve yazma işlemleriyle ilgili bir uygulama olacak. Aynı zamanda bir günlük tutma uygulaması da geliştirmek oldukça eğlenceli ve öğretici bir adım.\n",
    "\n",
    "İlk uygulama için, kullanıcının girdiği verileri kaydeden basit bir program örneği:\n",
    "\n",
    "### Kullanıcı Girdisini Dosyaya Kaydetme Programı:\n",
    "\n",
    "```python\n",
    "# Kullanıcının girdiği veriyi dosyaya kaydeden program\n",
    "filename = 'user_input.txt'\n",
    "\n",
    "# Dosyayı yazma modunda açıyoruz\n",
    "with open(filename, 'w') as file:\n",
    "    print(\"Lütfen dosyaya yazılacak veriyi girin (çıkmak için 'q' tuşuna basın):\")\n",
    "    \n",
    "    while True:\n",
    "        user_input = input(\"Girdi: \")\n",
    "        if user_input.lower() == 'q':\n",
    "            break\n",
    "        file.write(user_input + '\\n')\n",
    "    \n",
    "    print(f\"Veriler '{filename}' dosyasına kaydedildi.\")\n",
    "```\n",
    "\n",
    "### Orta Ölçekli Günlük Tutma Uygulaması:\n",
    "\n",
    "```python\n",
    "import datetime\n",
    "\n",
    "# Günlük dosyasını açma veya oluşturma\n",
    "filename = 'daily_journal.txt'\n",
    "\n",
    "def write_journal():\n",
    "    with open(filename, 'a') as file:\n",
    "        print(\"Bugün ne yazmak istersiniz? (Çıkmak için 'q' tuşuna basın)\")\n",
    "        \n",
    "        while True:\n",
    "            entry = input(\"Günlük yazısı: \")\n",
    "            if entry.lower() == 'q':\n",
    "                break\n",
    "            timestamp = datetime.datetime.now().strftime('%Y-%m-%d %H:%M:%S')\n",
    "            file.write(f\"{timestamp}: {entry}\\n\")\n",
    "        \n",
    "        print(f\"Yazınız '{filename}' dosyasına kaydedildi.\")\n",
    "\n",
    "write_journal()\n",
    "```\n",
    "\n",
    "Bu uygulamalar, dosya işlemleri ile nasıl çalışılacağını, verileri nasıl kaydedebileceğimizi ve tarih/saat bilgisini dosyaya eklemeyi gösteriyor. Bu tür uygulamalar, Python'da dosya yönetimi konusunda pratik yapmanıza yardımcı olacaktır."
   ]
  },
  {
   "cell_type": "code",
   "execution_count": null,
   "id": "fef27464-b1a7-45f0-9085-227b8ecac377",
   "metadata": {},
   "outputs": [],
   "source": []
  }
 ],
 "metadata": {
  "kernelspec": {
   "display_name": "Python 3 (ipykernel)",
   "language": "python",
   "name": "python3"
  },
  "language_info": {
   "codemirror_mode": {
    "name": "ipython",
    "version": 3
   },
   "file_extension": ".py",
   "mimetype": "text/x-python",
   "name": "python",
   "nbconvert_exporter": "python",
   "pygments_lexer": "ipython3",
   "version": "3.12.7"
  }
 },
 "nbformat": 4,
 "nbformat_minor": 5
}
