{
 "cells": [
  {
   "cell_type": "markdown",
   "id": "0d597af7-99ab-4b8e-8179-ec445f18bd08",
   "metadata": {},
   "source": [
    "# **Python'da Bir Dosyayı Silme**  \n",
    "Özet: Bu derste, Python'da os modülünün `remove()` fonksiyonunu kullanarak bir dosyayı nasıl sileceğinizi öğreneceksiniz.\n",
    "\n",
    "Python'da bir dosyayı silmek için, os modülündeki `remove()` fonksiyonunu kullanırsınız. \n",
    "\n",
    "**Dosya Silme Örneği:**  \n",
    "Aşağıdaki örnek, `readme.txt` dosyasını silmek için `os.remove()` fonksiyonunu kullanmaktadır:\n",
    "\n",
    "```python\n",
    "import os\n",
    "\n",
    "os.remove('readme.txt')\n",
    "```\n",
    "\n",
    "Eğer `readme.txt` dosyası mevcut değilse, `os.remove()` fonksiyonu bir hata verir:\n",
    "\n",
    "```\n",
    "FileNotFoundError: [WinError 2] The system cannot find the file specified: 'readme.txt'\n",
    "```\n",
    "\n",
    "**Hata Kontrolü ile Dosya Silme:**  \n",
    "Dosya silmeden önce dosyanın var olup olmadığını kontrol edebilirsiniz:\n",
    "\n",
    "```python\n",
    "import os\n",
    "\n",
    "filename = 'readme.txt'\n",
    "if os.path.exists(filename):\n",
    "    os.remove(filename)\n",
    "```\n",
    "\n",
    "Alternatif olarak, dosya mevcut değilse hatayı yakalamak için `try...except` bloğu kullanabilirsiniz:\n",
    "\n",
    "```python\n",
    "import os\n",
    "\n",
    "try:\n",
    "    os.remove('readme.txt')\n",
    "except FileNotFoundError as e:\n",
    "    print(e)\n",
    "```\n",
    "\n",
    "**Özet:**  \n",
    "Bir dosyayı silmek için `os.remove()` fonksiyonunu kullanabilirsiniz."
   ]
  },
  {
   "cell_type": "code",
   "execution_count": null,
   "id": "c7f45778-5d53-4ce4-a837-47566628db39",
   "metadata": {},
   "outputs": [],
   "source": []
  }
 ],
 "metadata": {
  "kernelspec": {
   "display_name": "Python 3 (ipykernel)",
   "language": "python",
   "name": "python3"
  },
  "language_info": {
   "codemirror_mode": {
    "name": "ipython",
    "version": 3
   },
   "file_extension": ".py",
   "mimetype": "text/x-python",
   "name": "python",
   "nbconvert_exporter": "python",
   "pygments_lexer": "ipython3",
   "version": "3.12.7"
  }
 },
 "nbformat": 4,
 "nbformat_minor": 5
}
