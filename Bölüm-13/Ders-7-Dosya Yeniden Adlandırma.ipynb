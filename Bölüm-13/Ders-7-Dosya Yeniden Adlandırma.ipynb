{
 "cells": [
  {
   "cell_type": "markdown",
   "id": "1c7cf88b-8dd7-45b5-8742-8ce5b1713373",
   "metadata": {},
   "source": [
    "# **Python'da Bir Dosyayı Yeniden Adlandırma**  \n",
    "**Özet:** Bu derste, Python'da os modülünün `rename()` fonksiyonunu kullanarak bir dosyayı nasıl yeniden adlandıracağınızı öğreneceksiniz.\n",
    "\n",
    "Python'da bir dosyayı yeniden adlandırmak için, os modülünden `rename()` fonksiyonunu kullanırsınız.\n",
    "\n",
    "**`rename()` Fonksiyonunun Temel Söz Dizimi:**\n",
    "\n",
    "```python\n",
    "os.rename(src, dst)\n",
    "```\n",
    "\n",
    "`rename()` fonksiyonu, `src` dosyasını `dst` olarak yeniden adlandırır.\n",
    "\n",
    "Eğer `src` dosyası mevcut değilse, `rename()` fonksiyonu bir `FileNotFoundError` hatası oluşturur. Benzer şekilde, `dst` zaten mevcutsa, `rename()` fonksiyonu bir `FileExistsError` hatası verir.\n",
    "\n",
    "**Örnek:**  \n",
    "Aşağıdaki örnek, `readme.txt` dosyasını `notes.txt` olarak yeniden adlandırmak için `rename()` fonksiyonunu kullanmaktadır:\n",
    "\n",
    "```python\n",
    "import os\n",
    "\n",
    "os.rename('readme.txt', 'notes.txt')\n",
    "```\n",
    "\n",
    "**Hata Kontrolü ile Yeniden Adlandırma:**  \n",
    "Eğer `readme.txt` dosyası mevcut değilse veya `notes.txt` dosyası zaten varsa bir hata almak istemiyorsanız, `try...except` bloğu kullanarak hatayı yakalayabilirsiniz:\n",
    "\n",
    "```python\n",
    "import os\n",
    "\n",
    "try:\n",
    "    os.rename('readme.txt', 'notes.txt')\n",
    "except FileNotFoundError as e:\n",
    "    print(e)\n",
    "except FileExistsError as e:\n",
    "    print(e)\n",
    "```\n",
    "\n",
    "**Çıktılar:**  \n",
    "Eğer `readme.txt` dosyası mevcut değilse, aşağıdaki hata mesajı alınır:\n",
    "\n",
    "```\n",
    "[WinError 2] The system cannot find the file specified: 'readme.txt' -> 'notes.txt'\n",
    "```\n",
    "\n",
    "Eğer `notes.txt` dosyası zaten mevcutsa, aşağıdaki hata mesajı alınır:\n",
    "\n",
    "```\n",
    "[WinError 183] Cannot create a file when that file already exists: 'readme.txt' -> 'notes.txt'\n",
    "```\n",
    "\n",
    "**Özet:**  \n",
    "Bir dosyayı yeniden adlandırmak için `os.rename()` fonksiyonunu kullanabilirsiniz."
   ]
  },
  {
   "cell_type": "code",
   "execution_count": null,
   "id": "6b0c9ddd-c0cb-4c43-82fe-9f356cc51610",
   "metadata": {},
   "outputs": [],
   "source": []
  }
 ],
 "metadata": {
  "kernelspec": {
   "display_name": "Python 3 (ipykernel)",
   "language": "python",
   "name": "python3"
  },
  "language_info": {
   "codemirror_mode": {
    "name": "ipython",
    "version": 3
   },
   "file_extension": ".py",
   "mimetype": "text/x-python",
   "name": "python",
   "nbconvert_exporter": "python",
   "pygments_lexer": "ipython3",
   "version": "3.12.7"
  }
 },
 "nbformat": 4,
 "nbformat_minor": 5
}
