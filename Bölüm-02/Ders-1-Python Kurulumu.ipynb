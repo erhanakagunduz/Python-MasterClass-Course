{
 "cells": [
  {
   "cell_type": "markdown",
   "id": "d89b8063-8ea2-4262-9e96-ea8269118089",
   "metadata": {},
   "source": [
    "## Python'ı Kurulumu  \n",
    "Python'ı resmi web sitesinden indirebilirsiniz: [https://www.python.org/downloads/](https://www.python.org/downloads/)"
   ]
  },
  {
   "cell_type": "markdown",
   "id": "44b5fe0e-8ab4-4343-aa4c-2d013f6e6539",
   "metadata": {},
   "source": [
    "### NOT\n",
    "Python Kurulumunu ilgili site üzerinden indirip bilgisayara nasıl kurulacağını "
   ]
  }
 ],
 "metadata": {
  "kernelspec": {
   "display_name": "Python 3 (ipykernel)",
   "language": "python",
   "name": "python3"
  },
  "language_info": {
   "codemirror_mode": {
    "name": "ipython",
    "version": 3
   },
   "file_extension": ".py",
   "mimetype": "text/x-python",
   "name": "python",
   "nbconvert_exporter": "python",
   "pygments_lexer": "ipython3",
   "version": "3.12.7"
  }
 },
 "nbformat": 4,
 "nbformat_minor": 5
}
