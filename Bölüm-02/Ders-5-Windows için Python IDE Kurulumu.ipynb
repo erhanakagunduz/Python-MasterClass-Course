{
 "cells": [
  {
   "cell_type": "code",
   "execution_count": null,
   "id": "f91c4ec9-6c86-450e-b6c5-9aa26f7ff7a4",
   "metadata": {},
   "outputs": [],
   "source": []
  }
 ],
 "metadata": {
  "kernelspec": {
   "display_name": "",
   "name": ""
  },
  "language_info": {
   "name": ""
  }
 },
 "nbformat": 4,
 "nbformat_minor": 5
}
