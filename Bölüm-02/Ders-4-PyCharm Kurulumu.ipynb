{
 "cells": [
  {
   "cell_type": "code",
   "execution_count": null,
   "id": "45e22566-077e-4d5a-932c-878557abbf37",
   "metadata": {},
   "outputs": [],
   "source": []
  }
 ],
 "metadata": {
  "kernelspec": {
   "display_name": "",
   "name": ""
  },
  "language_info": {
   "name": ""
  }
 },
 "nbformat": 4,
 "nbformat_minor": 5
}
