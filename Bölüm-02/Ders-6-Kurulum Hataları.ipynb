{
 "cells": [
  {
   "cell_type": "code",
   "execution_count": null,
   "id": "53f56cfa-10c6-4c27-bdb8-8a3527b13b2d",
   "metadata": {},
   "outputs": [],
   "source": []
  }
 ],
 "metadata": {
  "kernelspec": {
   "display_name": "",
   "name": ""
  },
  "language_info": {
   "name": ""
  }
 },
 "nbformat": 4,
 "nbformat_minor": 5
}
