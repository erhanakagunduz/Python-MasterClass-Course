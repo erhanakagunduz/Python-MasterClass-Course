{
 "cells": [
  {
   "cell_type": "code",
   "execution_count": null,
   "id": "412bc41e-91c7-4910-927e-e5b64b6f4bbf",
   "metadata": {},
   "outputs": [],
   "source": []
  }
 ],
 "metadata": {
  "kernelspec": {
   "display_name": "",
   "name": ""
  },
  "language_info": {
   "name": ""
  }
 },
 "nbformat": 4,
 "nbformat_minor": 5
}
