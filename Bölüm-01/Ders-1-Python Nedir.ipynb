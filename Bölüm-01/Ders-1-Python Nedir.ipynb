{
 "cells": [
  {
   "cell_type": "markdown",
   "id": "014cd902-dce1-4b5e-93a3-e6b93a0fe760",
   "metadata": {},
   "source": [
    "<span style=\"color:red; font-size:24px\">📘 Python Nedir?</span>\n",
    "  - Python, genel amaçlı, yorumlanan, etkileşimli, nesne yönelimli ve yüksek seviyeli bir programlama dilidir.\n",
    "  - Dinamik olarak tür belirlenen ve çöp toplayıcı kullanan bir dil olma özelliğine sahiptir.\n",
    "  - 1985-1990 yılları arasında Guido van Rossum tarafından geliştirilmiştir.\n",
    "  - Python kaynak kodu, Perl gibi, GNU Genel Kamu Lisansı (GPL) altında mevcuttur.\n",
    "  - Birden fazla programlama paradigmasını destekler:\n",
    "    - Prosedürel programlama\n",
    "    - Nesne yönelimli programlama\n",
    "    - Fonksiyonel programlama\n",
    "  - Tasarım felsefesi, anlamlı girintilerin kullanımıyla kod okunabilirliğine odaklanır.\n",
    "  - Bu eğitim, Python programlama dilini temel kavramlardan ileri düzey kavramlara kadar kapsamlı bir şekilde öğretmeyi amaçlar.\n",
    "  - Eğitim, Python dilini öğrenirken basit ve pratik yaklaşımlar sunar."
   ]
  },
  {
   "cell_type": "markdown",
   "id": "9cadf15e-d004-4f80-b904-357cc2b04342",
   "metadata": {},
   "source": [
    "<span style=\"color:red; font-size:24px\">📘 Python'ın Özellikleri</span>\n",
    "\n",
    "Aşağıda, Python programlamanın önemli özellikleri sıralanmıştır:\n",
    "\n",
    "- Fonksiyonel ve yapılandırılmış programlama yöntemlerinin yanı sıra Nesne Yönelimli Programlamayı (OOP) da destekler.\n",
    "- Bir betik dili olarak kullanılabilir veya büyük uygulamalar oluşturmak için bayt koduna derlenebilir.\n",
    "- Çok yüksek seviyeli dinamik veri tipleri sunar ve dinamik tür denetimini destekler.\n",
    "- Otomatik çöp toplama (garbage collection) sağlar.\n",
    "- C, C++, COM, ActiveX, CORBA ve Java ile kolayca entegre edilebilir."
   ]
  },
  {
   "cell_type": "markdown",
   "id": "9b805c3f-f2e2-46be-8fbd-bfcd19af28e8",
   "metadata": {},
   "source": [
    "<span style=\"color:red; font-size:24px\">📘 Python'ın Uygulama Alanları</span>\n",
    "\n",
    "Python, okunabilirliğiyle bilinen genel amaçlı bir programlama dilidir ve çeşitli alanlarda yaygın olarak kullanılmaktadır.\n",
    "\n",
    "- **Veri Bilimi**: Numpy, Pandas ve Matplotlib gibi Python kütüphaneleri, veri analizi ve görselleştirme için kullanılır.\n",
    "- **Web Uygulamaları**: Django ve Pyramid gibi Python framework'leri, web uygulamalarının geliştirilmesi ve dağıtımını kolaylaştırır.\n",
    "- **Bilgisayarla Görüntüleme ve Görüntü İşleme**: Python, bilgisayarla görüntüleme ve görüntü işleme alanlarında da uygulamalar sunar.\n",
    "- **Diğer Uygulamalar**: Otomasyon, iş planlaması, GUI geliştirme gibi birçok farklı görevde de tercih edilir."
   ]
  },
  {
   "cell_type": "markdown",
   "id": "7722b1ac-220f-451b-9f50-8f86eedb2f78",
   "metadata": {},
   "source": [
    "<span style=\"color:red; font-size:24px\">📘 Python'ın Özellikleri</span>\n",
    "\n",
    "Python'ın en son sürümü 3.x'tir. Daha önce de belirtildiği gibi, Python, web üzerinde en yaygın kullanılan dillerden biridir. İşte Python'ın bazı özellikleri:\n",
    "\n",
    "- **Kolay Öğrenilebilir**: Python, az sayıda anahtar kelimeye, basit bir yapıya ve açık bir sözdizimine sahiptir. Bu, öğrencilerin dili hızlıca öğrenmelerini sağlar.\n",
    "- **Kolay Okunabilir**: Python kodu daha açık bir şekilde tanımlanmış ve gözle görülürdür.\n",
    "- **Kolay Bakım**: Python'un kaynak kodu, bakım açısından oldukça kolaydır.\n",
    "- **Geniş Standart Kütüphane**: Python kütüphanesinin büyük bir kısmı taşınabilir olup, UNIX, Windows ve Macintosh gibi platformlarda uyumludur.\n",
    "- **Etkileşimli Mod**: Python, kod parçacıklarının etkileşimli olarak test edilmesine ve hata ayıklanmasına olanak tanıyan bir etkileşimli mod desteğine sahiptir.\n",
    "- **Taşınabilir**: Python, geniş bir donanım platformu yelpazesinde çalışabilir ve tüm platformlarda aynı arayüze sahiptir.\n",
    "- **Genişletilebilir**: Python yorumlayıcısına düşük seviyeli modüller ekleyebilirsiniz. Bu modüller, programcıların araçlarını daha verimli hale getirmelerini sağlar.\n",
    "- **Veritabanları**: Python, tüm büyük ticari veritabanlarına arayüz sağlar.\n",
    "- **GUI Programlama**: Python, GUI uygulamalarını destekler ve bu uygulamalar Windows MFC, Macintosh ve UNIX'in X Window sistemi gibi birçok sistem çağrısına, kütüphaneye ve platforma taşınabilir.\n",
    "- **Ölçeklenebilir**: Python, kabuk betikleriyle karşılaştırıldığında büyük programlar için daha iyi yapı ve destek sunar."
   ]
  },
  {
   "cell_type": "markdown",
   "id": "ebbbeadf-f76d-41f4-af91-eeb097a4f6bf",
   "metadata": {},
   "source": [
    "<span style=\"color:red; font-size:24px\">📘 Python İş İmkanları </span>\n",
    "\n",
    "Bugün, Python oldukça yüksek talep gören bir programlama dilidir ve büyük şirketler, web siteleri, yazılım bileşenleri ve uygulamalar geliştirmek veya veri bilimi, yapay zeka (AI) ve makine öğrenimi (ML) teknolojileriyle çalışmak için yetenekli Python programcıları aramaktadır. 2022 yılında bu eğitim materyalini geliştirirken, Python programcıları konusunda büyük bir eksiklik olduğu görülmektedir. Pazar, makine öğrenimi, yapay zeka gibi alanlardaki uygulamaları nedeniyle daha fazla Python programcısına ihtiyaç duymaktadır.\n",
    "\n",
    "Bugün, 3-5 yıl deneyime sahip bir Python programcısı, yıllık paket olarak yaklaşık 150.000 dolar talep etmektedir ve bu, Amerika'daki en çok talep gören programlama dilidir. Ancak, bu ücret işin lokasyonuna bağlı olarak değişiklik gösterebilir. Python kullanan tüm şirketleri listelemek imkansızdır, ancak bazı büyük şirketler şunlardır:\n",
    "\n",
    "- Google\n",
    "- Intel\n",
    "- NASA\n",
    "- PayPal\n",
    "- Facebook\n",
    "- IBM\n",
    "- Amazon\n",
    "- Netflix\n",
    "- Pinterest\n",
    "- Uber\n",
    "- Daha birçok şirket...\n",
    "\n",
    "Bu büyük şirketlerden biri için bir sonraki potansiyel çalışan siz olabilirsiniz. Python programlamayı öğrenmeniz için mükemmel öğrenme materyalleri geliştirdik; bu materyaller, teknik mülakatlara ve Python tabanlı sertifikasyon sınavlarına hazırlığınızı destekleyecektir. O zaman, bu basit ve etkili eğitimle Python öğrenmeye her yerden ve istediğiniz hızda başlayın."
   ]
  },
  {
   "cell_type": "code",
   "execution_count": null,
   "id": "909e12a1f8e1e23c",
   "metadata": {},
   "outputs": [],
   "source": []
  }
 ],
 "metadata": {
  "kernelspec": {
   "display_name": "Python 3 (ipykernel)",
   "language": "python",
   "name": "python3"
  },
  "language_info": {
   "codemirror_mode": {
    "name": "ipython",
    "version": 3
   },
   "file_extension": ".py",
   "mimetype": "text/x-python",
   "name": "python",
   "nbconvert_exporter": "python",
   "pygments_lexer": "ipython3",
   "version": "3.13.2"
  }
 },
 "nbformat": 4,
 "nbformat_minor": 5
}
