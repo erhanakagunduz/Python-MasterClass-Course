{
 "cells": [
  {
   "cell_type": "code",
   "execution_count": null,
   "id": "3969ddc9-9b31-4369-bac0-d6dd22cbd85c",
   "metadata": {},
   "outputs": [],
   "source": []
  }
 ],
 "metadata": {
  "kernelspec": {
   "display_name": "",
   "name": ""
  },
  "language_info": {
   "name": ""
  }
 },
 "nbformat": 4,
 "nbformat_minor": 5
}
